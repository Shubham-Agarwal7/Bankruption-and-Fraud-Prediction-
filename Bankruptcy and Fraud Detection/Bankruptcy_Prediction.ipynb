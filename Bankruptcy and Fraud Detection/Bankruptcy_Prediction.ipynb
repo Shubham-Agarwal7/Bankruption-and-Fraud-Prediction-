{
  "cells": [
    {
      "cell_type": "markdown",
      "metadata": {
        "id": "JNWiO6x0Xsi9"
      },
      "source": [
        "# Bankruptcy Prediction"
      ]
    },
    {
      "cell_type": "code",
      "execution_count": null,
      "metadata": {
        "colab": {
          "base_uri": "https://localhost:8080/"
        },
        "id": "rBjGseiLX2YA",
        "outputId": "73395662-2ed4-41c5-b3fe-0e6a9e1ad12f"
      },
      "outputs": [
        {
          "output_type": "stream",
          "name": "stdout",
          "text": [
            "Mounted at /content/drive\n"
          ]
        }
      ],
      "source": [
        "from google.colab import drive\n",
        "drive.mount('/content/drive')"
      ]
    },
    {
      "cell_type": "code",
      "execution_count": null,
      "metadata": {
        "id": "BDeEiO1ZYBrV"
      },
      "outputs": [],
      "source": [
        "import pandas as pd\n",
        "import matplotlib.pyplot as plt\n",
        "import pandas as pd\n",
        "import seaborn as sns\n",
        "from imblearn.over_sampling import RandomOverSampler\n",
        "from imblearn.under_sampling import RandomUnderSampler\n",
        "from sklearn.metrics import ConfusionMatrixDisplay\n",
        "from sklearn.model_selection import train_test_split\n",
        "from sklearn.pipeline import make_pipeline\n",
        "from sklearn.tree import DecisionTreeClassifier"
      ]
    },
    {
      "cell_type": "code",
      "execution_count": null,
      "metadata": {
        "colab": {
          "base_uri": "https://localhost:8080/",
          "height": 386
        },
        "id": "qEKbWvn2YOig",
        "outputId": "59285222-0ab5-429e-835f-b05a7cc35669"
      },
      "outputs": [
        {
          "data": {
            "text/html": [
              "\n",
              "  <div id=\"df-89298115-5efb-4f02-88de-8da9dfab51bd\">\n",
              "    <div class=\"colab-df-container\">\n",
              "      <div>\n",
              "<style scoped>\n",
              "    .dataframe tbody tr th:only-of-type {\n",
              "        vertical-align: middle;\n",
              "    }\n",
              "\n",
              "    .dataframe tbody tr th {\n",
              "        vertical-align: top;\n",
              "    }\n",
              "\n",
              "    .dataframe thead th {\n",
              "        text-align: right;\n",
              "    }\n",
              "</style>\n",
              "<table border=\"1\" class=\"dataframe\">\n",
              "  <thead>\n",
              "    <tr style=\"text-align: right;\">\n",
              "      <th></th>\n",
              "      <th>Bankrupt?</th>\n",
              "      <th>ROA(C) before interest and depreciation before interest</th>\n",
              "      <th>ROA(A) before interest and % after tax</th>\n",
              "      <th>ROA(B) before interest and depreciation after tax</th>\n",
              "      <th>Operating Gross Margin</th>\n",
              "      <th>Realized Sales Gross Margin</th>\n",
              "      <th>Operating Profit Rate</th>\n",
              "      <th>Pre-tax net Interest Rate</th>\n",
              "      <th>After-tax net Interest Rate</th>\n",
              "      <th>Non-industry income and expenditure/revenue</th>\n",
              "      <th>...</th>\n",
              "      <th>Net Income to Total Assets</th>\n",
              "      <th>Total assets to GNP price</th>\n",
              "      <th>No-credit Interval</th>\n",
              "      <th>Gross Profit to Sales</th>\n",
              "      <th>Net Income to Stockholder's Equity</th>\n",
              "      <th>Liability to Equity</th>\n",
              "      <th>Degree of Financial Leverage (DFL)</th>\n",
              "      <th>Interest Coverage Ratio (Interest expense to EBIT)</th>\n",
              "      <th>Net Income Flag</th>\n",
              "      <th>Equity to Liability</th>\n",
              "    </tr>\n",
              "  </thead>\n",
              "  <tbody>\n",
              "    <tr>\n",
              "      <th>0</th>\n",
              "      <td>1</td>\n",
              "      <td>0.370594</td>\n",
              "      <td>0.424389</td>\n",
              "      <td>0.405750</td>\n",
              "      <td>0.601457</td>\n",
              "      <td>0.601457</td>\n",
              "      <td>0.998969</td>\n",
              "      <td>0.796887</td>\n",
              "      <td>0.808809</td>\n",
              "      <td>0.302646</td>\n",
              "      <td>...</td>\n",
              "      <td>0.716845</td>\n",
              "      <td>0.009219</td>\n",
              "      <td>0.622879</td>\n",
              "      <td>0.601453</td>\n",
              "      <td>0.827890</td>\n",
              "      <td>0.290202</td>\n",
              "      <td>0.026601</td>\n",
              "      <td>0.564050</td>\n",
              "      <td>1</td>\n",
              "      <td>0.016469</td>\n",
              "    </tr>\n",
              "    <tr>\n",
              "      <th>1</th>\n",
              "      <td>1</td>\n",
              "      <td>0.464291</td>\n",
              "      <td>0.538214</td>\n",
              "      <td>0.516730</td>\n",
              "      <td>0.610235</td>\n",
              "      <td>0.610235</td>\n",
              "      <td>0.998946</td>\n",
              "      <td>0.797380</td>\n",
              "      <td>0.809301</td>\n",
              "      <td>0.303556</td>\n",
              "      <td>...</td>\n",
              "      <td>0.795297</td>\n",
              "      <td>0.008323</td>\n",
              "      <td>0.623652</td>\n",
              "      <td>0.610237</td>\n",
              "      <td>0.839969</td>\n",
              "      <td>0.283846</td>\n",
              "      <td>0.264577</td>\n",
              "      <td>0.570175</td>\n",
              "      <td>1</td>\n",
              "      <td>0.020794</td>\n",
              "    </tr>\n",
              "    <tr>\n",
              "      <th>2</th>\n",
              "      <td>1</td>\n",
              "      <td>0.426071</td>\n",
              "      <td>0.499019</td>\n",
              "      <td>0.472295</td>\n",
              "      <td>0.601450</td>\n",
              "      <td>0.601364</td>\n",
              "      <td>0.998857</td>\n",
              "      <td>0.796403</td>\n",
              "      <td>0.808388</td>\n",
              "      <td>0.302035</td>\n",
              "      <td>...</td>\n",
              "      <td>0.774670</td>\n",
              "      <td>0.040003</td>\n",
              "      <td>0.623841</td>\n",
              "      <td>0.601449</td>\n",
              "      <td>0.836774</td>\n",
              "      <td>0.290189</td>\n",
              "      <td>0.026555</td>\n",
              "      <td>0.563706</td>\n",
              "      <td>1</td>\n",
              "      <td>0.016474</td>\n",
              "    </tr>\n",
              "    <tr>\n",
              "      <th>3</th>\n",
              "      <td>1</td>\n",
              "      <td>0.399844</td>\n",
              "      <td>0.451265</td>\n",
              "      <td>0.457733</td>\n",
              "      <td>0.583541</td>\n",
              "      <td>0.583541</td>\n",
              "      <td>0.998700</td>\n",
              "      <td>0.796967</td>\n",
              "      <td>0.808966</td>\n",
              "      <td>0.303350</td>\n",
              "      <td>...</td>\n",
              "      <td>0.739555</td>\n",
              "      <td>0.003252</td>\n",
              "      <td>0.622929</td>\n",
              "      <td>0.583538</td>\n",
              "      <td>0.834697</td>\n",
              "      <td>0.281721</td>\n",
              "      <td>0.026697</td>\n",
              "      <td>0.564663</td>\n",
              "      <td>1</td>\n",
              "      <td>0.023982</td>\n",
              "    </tr>\n",
              "    <tr>\n",
              "      <th>4</th>\n",
              "      <td>1</td>\n",
              "      <td>0.465022</td>\n",
              "      <td>0.538432</td>\n",
              "      <td>0.522298</td>\n",
              "      <td>0.598783</td>\n",
              "      <td>0.598783</td>\n",
              "      <td>0.998973</td>\n",
              "      <td>0.797366</td>\n",
              "      <td>0.809304</td>\n",
              "      <td>0.303475</td>\n",
              "      <td>...</td>\n",
              "      <td>0.795016</td>\n",
              "      <td>0.003878</td>\n",
              "      <td>0.623521</td>\n",
              "      <td>0.598782</td>\n",
              "      <td>0.839973</td>\n",
              "      <td>0.278514</td>\n",
              "      <td>0.024752</td>\n",
              "      <td>0.575617</td>\n",
              "      <td>1</td>\n",
              "      <td>0.035490</td>\n",
              "    </tr>\n",
              "  </tbody>\n",
              "</table>\n",
              "<p>5 rows × 96 columns</p>\n",
              "</div>\n",
              "      <button class=\"colab-df-convert\" onclick=\"convertToInteractive('df-89298115-5efb-4f02-88de-8da9dfab51bd')\"\n",
              "              title=\"Convert this dataframe to an interactive table.\"\n",
              "              style=\"display:none;\">\n",
              "        \n",
              "  <svg xmlns=\"http://www.w3.org/2000/svg\" height=\"24px\"viewBox=\"0 0 24 24\"\n",
              "       width=\"24px\">\n",
              "    <path d=\"M0 0h24v24H0V0z\" fill=\"none\"/>\n",
              "    <path d=\"M18.56 5.44l.94 2.06.94-2.06 2.06-.94-2.06-.94-.94-2.06-.94 2.06-2.06.94zm-11 1L8.5 8.5l.94-2.06 2.06-.94-2.06-.94L8.5 2.5l-.94 2.06-2.06.94zm10 10l.94 2.06.94-2.06 2.06-.94-2.06-.94-.94-2.06-.94 2.06-2.06.94z\"/><path d=\"M17.41 7.96l-1.37-1.37c-.4-.4-.92-.59-1.43-.59-.52 0-1.04.2-1.43.59L10.3 9.45l-7.72 7.72c-.78.78-.78 2.05 0 2.83L4 21.41c.39.39.9.59 1.41.59.51 0 1.02-.2 1.41-.59l7.78-7.78 2.81-2.81c.8-.78.8-2.07 0-2.86zM5.41 20L4 18.59l7.72-7.72 1.47 1.35L5.41 20z\"/>\n",
              "  </svg>\n",
              "      </button>\n",
              "      \n",
              "  <style>\n",
              "    .colab-df-container {\n",
              "      display:flex;\n",
              "      flex-wrap:wrap;\n",
              "      gap: 12px;\n",
              "    }\n",
              "\n",
              "    .colab-df-convert {\n",
              "      background-color: #E8F0FE;\n",
              "      border: none;\n",
              "      border-radius: 50%;\n",
              "      cursor: pointer;\n",
              "      display: none;\n",
              "      fill: #1967D2;\n",
              "      height: 32px;\n",
              "      padding: 0 0 0 0;\n",
              "      width: 32px;\n",
              "    }\n",
              "\n",
              "    .colab-df-convert:hover {\n",
              "      background-color: #E2EBFA;\n",
              "      box-shadow: 0px 1px 2px rgba(60, 64, 67, 0.3), 0px 1px 3px 1px rgba(60, 64, 67, 0.15);\n",
              "      fill: #174EA6;\n",
              "    }\n",
              "\n",
              "    [theme=dark] .colab-df-convert {\n",
              "      background-color: #3B4455;\n",
              "      fill: #D2E3FC;\n",
              "    }\n",
              "\n",
              "    [theme=dark] .colab-df-convert:hover {\n",
              "      background-color: #434B5C;\n",
              "      box-shadow: 0px 1px 3px 1px rgba(0, 0, 0, 0.15);\n",
              "      filter: drop-shadow(0px 1px 2px rgba(0, 0, 0, 0.3));\n",
              "      fill: #FFFFFF;\n",
              "    }\n",
              "  </style>\n",
              "\n",
              "      <script>\n",
              "        const buttonEl =\n",
              "          document.querySelector('#df-89298115-5efb-4f02-88de-8da9dfab51bd button.colab-df-convert');\n",
              "        buttonEl.style.display =\n",
              "          google.colab.kernel.accessAllowed ? 'block' : 'none';\n",
              "\n",
              "        async function convertToInteractive(key) {\n",
              "          const element = document.querySelector('#df-89298115-5efb-4f02-88de-8da9dfab51bd');\n",
              "          const dataTable =\n",
              "            await google.colab.kernel.invokeFunction('convertToInteractive',\n",
              "                                                     [key], {});\n",
              "          if (!dataTable) return;\n",
              "\n",
              "          const docLinkHtml = 'Like what you see? Visit the ' +\n",
              "            '<a target=\"_blank\" href=https://colab.research.google.com/notebooks/data_table.ipynb>data table notebook</a>'\n",
              "            + ' to learn more about interactive tables.';\n",
              "          element.innerHTML = '';\n",
              "          dataTable['output_type'] = 'display_data';\n",
              "          await google.colab.output.renderOutput(dataTable, element);\n",
              "          const docLink = document.createElement('div');\n",
              "          docLink.innerHTML = docLinkHtml;\n",
              "          element.appendChild(docLink);\n",
              "        }\n",
              "      </script>\n",
              "    </div>\n",
              "  </div>\n",
              "  "
            ],
            "text/plain": [
              "   Bankrupt?   ROA(C) before interest and depreciation before interest  \\\n",
              "0          1                                           0.370594          \n",
              "1          1                                           0.464291          \n",
              "2          1                                           0.426071          \n",
              "3          1                                           0.399844          \n",
              "4          1                                           0.465022          \n",
              "\n",
              "    ROA(A) before interest and % after tax  \\\n",
              "0                                 0.424389   \n",
              "1                                 0.538214   \n",
              "2                                 0.499019   \n",
              "3                                 0.451265   \n",
              "4                                 0.538432   \n",
              "\n",
              "    ROA(B) before interest and depreciation after tax  \\\n",
              "0                                           0.405750    \n",
              "1                                           0.516730    \n",
              "2                                           0.472295    \n",
              "3                                           0.457733    \n",
              "4                                           0.522298    \n",
              "\n",
              "    Operating Gross Margin   Realized Sales Gross Margin  \\\n",
              "0                 0.601457                      0.601457   \n",
              "1                 0.610235                      0.610235   \n",
              "2                 0.601450                      0.601364   \n",
              "3                 0.583541                      0.583541   \n",
              "4                 0.598783                      0.598783   \n",
              "\n",
              "    Operating Profit Rate   Pre-tax net Interest Rate  \\\n",
              "0                0.998969                    0.796887   \n",
              "1                0.998946                    0.797380   \n",
              "2                0.998857                    0.796403   \n",
              "3                0.998700                    0.796967   \n",
              "4                0.998973                    0.797366   \n",
              "\n",
              "    After-tax net Interest Rate   Non-industry income and expenditure/revenue  \\\n",
              "0                      0.808809                                      0.302646   \n",
              "1                      0.809301                                      0.303556   \n",
              "2                      0.808388                                      0.302035   \n",
              "3                      0.808966                                      0.303350   \n",
              "4                      0.809304                                      0.303475   \n",
              "\n",
              "   ...   Net Income to Total Assets   Total assets to GNP price  \\\n",
              "0  ...                     0.716845                    0.009219   \n",
              "1  ...                     0.795297                    0.008323   \n",
              "2  ...                     0.774670                    0.040003   \n",
              "3  ...                     0.739555                    0.003252   \n",
              "4  ...                     0.795016                    0.003878   \n",
              "\n",
              "    No-credit Interval   Gross Profit to Sales  \\\n",
              "0             0.622879                0.601453   \n",
              "1             0.623652                0.610237   \n",
              "2             0.623841                0.601449   \n",
              "3             0.622929                0.583538   \n",
              "4             0.623521                0.598782   \n",
              "\n",
              "    Net Income to Stockholder's Equity   Liability to Equity  \\\n",
              "0                             0.827890              0.290202   \n",
              "1                             0.839969              0.283846   \n",
              "2                             0.836774              0.290189   \n",
              "3                             0.834697              0.281721   \n",
              "4                             0.839973              0.278514   \n",
              "\n",
              "    Degree of Financial Leverage (DFL)  \\\n",
              "0                             0.026601   \n",
              "1                             0.264577   \n",
              "2                             0.026555   \n",
              "3                             0.026697   \n",
              "4                             0.024752   \n",
              "\n",
              "    Interest Coverage Ratio (Interest expense to EBIT)   Net Income Flag  \\\n",
              "0                                           0.564050                   1   \n",
              "1                                           0.570175                   1   \n",
              "2                                           0.563706                   1   \n",
              "3                                           0.564663                   1   \n",
              "4                                           0.575617                   1   \n",
              "\n",
              "    Equity to Liability  \n",
              "0              0.016469  \n",
              "1              0.020794  \n",
              "2              0.016474  \n",
              "3              0.023982  \n",
              "4              0.035490  \n",
              "\n",
              "[5 rows x 96 columns]"
            ]
          },
          "execution_count": 6,
          "metadata": {},
          "output_type": "execute_result"
        }
      ],
      "source": [
        "data = pd.read_csv('/content/drive/MyDrive/PBL 6th Sem/data1.csv')\n",
        "df=pd.DataFrame(data)\n",
        "df.head()"
      ]
    },
    {
      "cell_type": "code",
      "execution_count": null,
      "metadata": {
        "id": "EL7jtdXraHS6"
      },
      "outputs": [],
      "source": [
        "df.rename(columns = {\"Bankrupt?\" : \"Bankrupt\"}, inplace = True)\n",
        "df[\"Bankrupt\"] = df[\"Bankrupt\"].astype(bool)"
      ]
    },
    {
      "cell_type": "code",
      "execution_count": null,
      "metadata": {
        "colab": {
          "base_uri": "https://localhost:8080/",
          "height": 311
        },
        "id": "rr4t26UHaPG9",
        "outputId": "f83ff598-065c-4991-8fdd-1f1693dc5d6b"
      },
      "outputs": [
        {
          "data": {
            "image/png": "[encoded data removed]",
            "text/plain": [
              "<Figure size 432x288 with 1 Axes>"
            ]
          },
          "metadata": {},
          "output_type": "display_data"
        }
      ],
      "source": [
        "# Plot class balance\n",
        "df[\"Bankrupt\"].value_counts(normalize=True).plot(\n",
        "    kind=\"bar\",\n",
        "    xlabel=\"bankrupt\",\n",
        "    ylabel=\"frequency\",\n",
        "    title=\"class\"\n",
        "    );"
      ]
    },
    {
      "cell_type": "code",
      "execution_count": null,
      "metadata": {
        "colab": {
          "base_uri": "https://localhost:8080/",
          "height": 480
        },
        "id": "O5LMaSvyabyG",
        "outputId": "8d8e09fc-2410-46e6-819d-8374aa509e8a"
      },
      "outputs": [
        {
          "data": {
            "text/html": [
              "\n",
              "  <div id=\"df-e52b6d9d-d6e6-49c4-b9ba-7d1ad9605694\">\n",
              "    <div class=\"colab-df-container\">\n",
              "      <div>\n",
              "<style scoped>\n",
              "    .dataframe tbody tr th:only-of-type {\n",
              "        vertical-align: middle;\n",
              "    }\n",
              "\n",
              "    .dataframe tbody tr th {\n",
              "        vertical-align: top;\n",
              "    }\n",
              "\n",
              "    .dataframe thead th {\n",
              "        text-align: right;\n",
              "    }\n",
              "</style>\n",
              "<table border=\"1\" class=\"dataframe\">\n",
              "  <thead>\n",
              "    <tr style=\"text-align: right;\">\n",
              "      <th></th>\n",
              "      <th>ROA(C) before interest and depreciation before interest</th>\n",
              "      <th>ROA(A) before interest and % after tax</th>\n",
              "      <th>ROA(B) before interest and depreciation after tax</th>\n",
              "      <th>Operating Gross Margin</th>\n",
              "      <th>Realized Sales Gross Margin</th>\n",
              "      <th>Operating Profit Rate</th>\n",
              "      <th>Pre-tax net Interest Rate</th>\n",
              "      <th>After-tax net Interest Rate</th>\n",
              "      <th>Non-industry income and expenditure/revenue</th>\n",
              "      <th>Continuous interest rate (after tax)</th>\n",
              "      <th>...</th>\n",
              "      <th>Net Income to Total Assets</th>\n",
              "      <th>Total assets to GNP price</th>\n",
              "      <th>No-credit Interval</th>\n",
              "      <th>Gross Profit to Sales</th>\n",
              "      <th>Net Income to Stockholder's Equity</th>\n",
              "      <th>Liability to Equity</th>\n",
              "      <th>Degree of Financial Leverage (DFL)</th>\n",
              "      <th>Interest Coverage Ratio (Interest expense to EBIT)</th>\n",
              "      <th>Net Income Flag</th>\n",
              "      <th>Equity to Liability</th>\n",
              "    </tr>\n",
              "  </thead>\n",
              "  <tbody>\n",
              "    <tr>\n",
              "      <th>count</th>\n",
              "      <td>6819.000000</td>\n",
              "      <td>6819.000000</td>\n",
              "      <td>6819.000000</td>\n",
              "      <td>6819.000000</td>\n",
              "      <td>6819.000000</td>\n",
              "      <td>6819.000000</td>\n",
              "      <td>6819.000000</td>\n",
              "      <td>6819.000000</td>\n",
              "      <td>6819.000000</td>\n",
              "      <td>6819.000000</td>\n",
              "      <td>...</td>\n",
              "      <td>6819.000000</td>\n",
              "      <td>6.819000e+03</td>\n",
              "      <td>6819.000000</td>\n",
              "      <td>6819.000000</td>\n",
              "      <td>6819.000000</td>\n",
              "      <td>6819.000000</td>\n",
              "      <td>6819.000000</td>\n",
              "      <td>6819.000000</td>\n",
              "      <td>6819.0</td>\n",
              "      <td>6819.000000</td>\n",
              "    </tr>\n",
              "    <tr>\n",
              "      <th>mean</th>\n",
              "      <td>0.505180</td>\n",
              "      <td>0.558625</td>\n",
              "      <td>0.553589</td>\n",
              "      <td>0.607948</td>\n",
              "      <td>0.607929</td>\n",
              "      <td>0.998755</td>\n",
              "      <td>0.797190</td>\n",
              "      <td>0.809084</td>\n",
              "      <td>0.303623</td>\n",
              "      <td>0.781381</td>\n",
              "      <td>...</td>\n",
              "      <td>0.807760</td>\n",
              "      <td>1.862942e+07</td>\n",
              "      <td>0.623915</td>\n",
              "      <td>0.607946</td>\n",
              "      <td>0.840402</td>\n",
              "      <td>0.280365</td>\n",
              "      <td>0.027541</td>\n",
              "      <td>0.565358</td>\n",
              "      <td>1.0</td>\n",
              "      <td>0.047578</td>\n",
              "    </tr>\n",
              "    <tr>\n",
              "      <th>std</th>\n",
              "      <td>0.060686</td>\n",
              "      <td>0.065620</td>\n",
              "      <td>0.061595</td>\n",
              "      <td>0.016934</td>\n",
              "      <td>0.016916</td>\n",
              "      <td>0.013010</td>\n",
              "      <td>0.012869</td>\n",
              "      <td>0.013601</td>\n",
              "      <td>0.011163</td>\n",
              "      <td>0.012679</td>\n",
              "      <td>...</td>\n",
              "      <td>0.040332</td>\n",
              "      <td>3.764501e+08</td>\n",
              "      <td>0.012290</td>\n",
              "      <td>0.016934</td>\n",
              "      <td>0.014523</td>\n",
              "      <td>0.014463</td>\n",
              "      <td>0.015668</td>\n",
              "      <td>0.013214</td>\n",
              "      <td>0.0</td>\n",
              "      <td>0.050014</td>\n",
              "    </tr>\n",
              "    <tr>\n",
              "      <th>min</th>\n",
              "      <td>0.000000</td>\n",
              "      <td>0.000000</td>\n",
              "      <td>0.000000</td>\n",
              "      <td>0.000000</td>\n",
              "      <td>0.000000</td>\n",
              "      <td>0.000000</td>\n",
              "      <td>0.000000</td>\n",
              "      <td>0.000000</td>\n",
              "      <td>0.000000</td>\n",
              "      <td>0.000000</td>\n",
              "      <td>...</td>\n",
              "      <td>0.000000</td>\n",
              "      <td>0.000000e+00</td>\n",
              "      <td>0.000000</td>\n",
              "      <td>0.000000</td>\n",
              "      <td>0.000000</td>\n",
              "      <td>0.000000</td>\n",
              "      <td>0.000000</td>\n",
              "      <td>0.000000</td>\n",
              "      <td>1.0</td>\n",
              "      <td>0.000000</td>\n",
              "    </tr>\n",
              "    <tr>\n",
              "      <th>25%</th>\n",
              "      <td>0.476527</td>\n",
              "      <td>0.535543</td>\n",
              "      <td>0.527277</td>\n",
              "      <td>0.600445</td>\n",
              "      <td>0.600434</td>\n",
              "      <td>0.998969</td>\n",
              "      <td>0.797386</td>\n",
              "      <td>0.809312</td>\n",
              "      <td>0.303466</td>\n",
              "      <td>0.781567</td>\n",
              "      <td>...</td>\n",
              "      <td>0.796750</td>\n",
              "      <td>9.036205e-04</td>\n",
              "      <td>0.623636</td>\n",
              "      <td>0.600443</td>\n",
              "      <td>0.840115</td>\n",
              "      <td>0.276944</td>\n",
              "      <td>0.026791</td>\n",
              "      <td>0.565158</td>\n",
              "      <td>1.0</td>\n",
              "      <td>0.024477</td>\n",
              "    </tr>\n",
              "    <tr>\n",
              "      <th>50%</th>\n",
              "      <td>0.502706</td>\n",
              "      <td>0.559802</td>\n",
              "      <td>0.552278</td>\n",
              "      <td>0.605997</td>\n",
              "      <td>0.605976</td>\n",
              "      <td>0.999022</td>\n",
              "      <td>0.797464</td>\n",
              "      <td>0.809375</td>\n",
              "      <td>0.303525</td>\n",
              "      <td>0.781635</td>\n",
              "      <td>...</td>\n",
              "      <td>0.810619</td>\n",
              "      <td>2.085213e-03</td>\n",
              "      <td>0.623879</td>\n",
              "      <td>0.605998</td>\n",
              "      <td>0.841179</td>\n",
              "      <td>0.278778</td>\n",
              "      <td>0.026808</td>\n",
              "      <td>0.565252</td>\n",
              "      <td>1.0</td>\n",
              "      <td>0.033798</td>\n",
              "    </tr>\n",
              "    <tr>\n",
              "      <th>75%</th>\n",
              "      <td>0.535563</td>\n",
              "      <td>0.589157</td>\n",
              "      <td>0.584105</td>\n",
              "      <td>0.613914</td>\n",
              "      <td>0.613842</td>\n",
              "      <td>0.999095</td>\n",
              "      <td>0.797579</td>\n",
              "      <td>0.809469</td>\n",
              "      <td>0.303585</td>\n",
              "      <td>0.781735</td>\n",
              "      <td>...</td>\n",
              "      <td>0.826455</td>\n",
              "      <td>5.269777e-03</td>\n",
              "      <td>0.624168</td>\n",
              "      <td>0.613913</td>\n",
              "      <td>0.842357</td>\n",
              "      <td>0.281449</td>\n",
              "      <td>0.026913</td>\n",
              "      <td>0.565725</td>\n",
              "      <td>1.0</td>\n",
              "      <td>0.052838</td>\n",
              "    </tr>\n",
              "    <tr>\n",
              "      <th>max</th>\n",
              "      <td>1.000000</td>\n",
              "      <td>1.000000</td>\n",
              "      <td>1.000000</td>\n",
              "      <td>1.000000</td>\n",
              "      <td>1.000000</td>\n",
              "      <td>1.000000</td>\n",
              "      <td>1.000000</td>\n",
              "      <td>1.000000</td>\n",
              "      <td>1.000000</td>\n",
              "      <td>1.000000</td>\n",
              "      <td>...</td>\n",
              "      <td>1.000000</td>\n",
              "      <td>9.820000e+09</td>\n",
              "      <td>1.000000</td>\n",
              "      <td>1.000000</td>\n",
              "      <td>1.000000</td>\n",
              "      <td>1.000000</td>\n",
              "      <td>1.000000</td>\n",
              "      <td>1.000000</td>\n",
              "      <td>1.0</td>\n",
              "      <td>1.000000</td>\n",
              "    </tr>\n",
              "  </tbody>\n",
              "</table>\n",
              "<p>8 rows × 95 columns</p>\n",
              "</div>\n",
              "      <button class=\"colab-df-convert\" onclick=\"convertToInteractive('df-e52b6d9d-d6e6-49c4-b9ba-7d1ad9605694')\"\n",
              "              title=\"Convert this dataframe to an interactive table.\"\n",
              "              style=\"display:none;\">\n",
              "        \n",
              "  <svg xmlns=\"http://www.w3.org/2000/svg\" height=\"24px\"viewBox=\"0 0 24 24\"\n",
              "       width=\"24px\">\n",
              "    <path d=\"M0 0h24v24H0V0z\" fill=\"none\"/>\n",
              "    <path d=\"M18.56 5.44l.94 2.06.94-2.06 2.06-.94-2.06-.94-.94-2.06-.94 2.06-2.06.94zm-11 1L8.5 8.5l.94-2.06 2.06-.94-2.06-.94L8.5 2.5l-.94 2.06-2.06.94zm10 10l.94 2.06.94-2.06 2.06-.94-2.06-.94-.94-2.06-.94 2.06-2.06.94z\"/><path d=\"M17.41 7.96l-1.37-1.37c-.4-.4-.92-.59-1.43-.59-.52 0-1.04.2-1.43.59L10.3 9.45l-7.72 7.72c-.78.78-.78 2.05 0 2.83L4 21.41c.39.39.9.59 1.41.59.51 0 1.02-.2 1.41-.59l7.78-7.78 2.81-2.81c.8-.78.8-2.07 0-2.86zM5.41 20L4 18.59l7.72-7.72 1.47 1.35L5.41 20z\"/>\n",
              "  </svg>\n",
              "      </button>\n",
              "      \n",
              "  <style>\n",
              "    .colab-df-container {\n",
              "      display:flex;\n",
              "      flex-wrap:wrap;\n",
              "      gap: 12px;\n",
              "    }\n",
              "\n",
              "    .colab-df-convert {\n",
              "      background-color: #E8F0FE;\n",
              "      border: none;\n",
              "      border-radius: 50%;\n",
              "      cursor: pointer;\n",
              "      display: none;\n",
              "      fill: #1967D2;\n",
              "      height: 32px;\n",
              "      padding: 0 0 0 0;\n",
              "      width: 32px;\n",
              "    }\n",
              "\n",
              "    .colab-df-convert:hover {\n",
              "      background-color: #E2EBFA;\n",
              "      box-shadow: 0px 1px 2px rgba(60, 64, 67, 0.3), 0px 1px 3px 1px rgba(60, 64, 67, 0.15);\n",
              "      fill: #174EA6;\n",
              "    }\n",
              "\n",
              "    [theme=dark] .colab-df-convert {\n",
              "      background-color: #3B4455;\n",
              "      fill: #D2E3FC;\n",
              "    }\n",
              "\n",
              "    [theme=dark] .colab-df-convert:hover {\n",
              "      background-color: #434B5C;\n",
              "      box-shadow: 0px 1px 3px 1px rgba(0, 0, 0, 0.15);\n",
              "      filter: drop-shadow(0px 1px 2px rgba(0, 0, 0, 0.3));\n",
              "      fill: #FFFFFF;\n",
              "    }\n",
              "  </style>\n",
              "\n",
              "      <script>\n",
              "        const buttonEl =\n",
              "          document.querySelector('#df-e52b6d9d-d6e6-49c4-b9ba-7d1ad9605694 button.colab-df-convert');\n",
              "        buttonEl.style.display =\n",
              "          google.colab.kernel.accessAllowed ? 'block' : 'none';\n",
              "\n",
              "        async function convertToInteractive(key) {\n",
              "          const element = document.querySelector('#df-e52b6d9d-d6e6-49c4-b9ba-7d1ad9605694');\n",
              "          const dataTable =\n",
              "            await google.colab.kernel.invokeFunction('convertToInteractive',\n",
              "                                                     [key], {});\n",
              "          if (!dataTable) return;\n",
              "\n",
              "          const docLinkHtml = 'Like what you see? Visit the ' +\n",
              "            '<a target=\"_blank\" href=https://colab.research.google.com/notebooks/data_table.ipynb>data table notebook</a>'\n",
              "            + ' to learn more about interactive tables.';\n",
              "          element.innerHTML = '';\n",
              "          dataTable['output_type'] = 'display_data';\n",
              "          await google.colab.output.renderOutput(dataTable, element);\n",
              "          const docLink = document.createElement('div');\n",
              "          docLink.innerHTML = docLinkHtml;\n",
              "          element.appendChild(docLink);\n",
              "        }\n",
              "      </script>\n",
              "    </div>\n",
              "  </div>\n",
              "  "
            ],
            "text/plain": [
              "        ROA(C) before interest and depreciation before interest  \\\n",
              "count                                        6819.000000          \n",
              "mean                                            0.505180          \n",
              "std                                             0.060686          \n",
              "min                                             0.000000          \n",
              "25%                                             0.476527          \n",
              "50%                                             0.502706          \n",
              "75%                                             0.535563          \n",
              "max                                             1.000000          \n",
              "\n",
              "        ROA(A) before interest and % after tax  \\\n",
              "count                              6819.000000   \n",
              "mean                                  0.558625   \n",
              "std                                   0.065620   \n",
              "min                                   0.000000   \n",
              "25%                                   0.535543   \n",
              "50%                                   0.559802   \n",
              "75%                                   0.589157   \n",
              "max                                   1.000000   \n",
              "\n",
              "        ROA(B) before interest and depreciation after tax  \\\n",
              "count                                        6819.000000    \n",
              "mean                                            0.553589    \n",
              "std                                             0.061595    \n",
              "min                                             0.000000    \n",
              "25%                                             0.527277    \n",
              "50%                                             0.552278    \n",
              "75%                                             0.584105    \n",
              "max                                             1.000000    \n",
              "\n",
              "        Operating Gross Margin   Realized Sales Gross Margin  \\\n",
              "count              6819.000000                   6819.000000   \n",
              "mean                  0.607948                      0.607929   \n",
              "std                   0.016934                      0.016916   \n",
              "min                   0.000000                      0.000000   \n",
              "25%                   0.600445                      0.600434   \n",
              "50%                   0.605997                      0.605976   \n",
              "75%                   0.613914                      0.613842   \n",
              "max                   1.000000                      1.000000   \n",
              "\n",
              "        Operating Profit Rate   Pre-tax net Interest Rate  \\\n",
              "count             6819.000000                 6819.000000   \n",
              "mean                 0.998755                    0.797190   \n",
              "std                  0.013010                    0.012869   \n",
              "min                  0.000000                    0.000000   \n",
              "25%                  0.998969                    0.797386   \n",
              "50%                  0.999022                    0.797464   \n",
              "75%                  0.999095                    0.797579   \n",
              "max                  1.000000                    1.000000   \n",
              "\n",
              "        After-tax net Interest Rate  \\\n",
              "count                   6819.000000   \n",
              "mean                       0.809084   \n",
              "std                        0.013601   \n",
              "min                        0.000000   \n",
              "25%                        0.809312   \n",
              "50%                        0.809375   \n",
              "75%                        0.809469   \n",
              "max                        1.000000   \n",
              "\n",
              "        Non-industry income and expenditure/revenue  \\\n",
              "count                                   6819.000000   \n",
              "mean                                       0.303623   \n",
              "std                                        0.011163   \n",
              "min                                        0.000000   \n",
              "25%                                        0.303466   \n",
              "50%                                        0.303525   \n",
              "75%                                        0.303585   \n",
              "max                                        1.000000   \n",
              "\n",
              "        Continuous interest rate (after tax)  ...  \\\n",
              "count                            6819.000000  ...   \n",
              "mean                                0.781381  ...   \n",
              "std                                 0.012679  ...   \n",
              "min                                 0.000000  ...   \n",
              "25%                                 0.781567  ...   \n",
              "50%                                 0.781635  ...   \n",
              "75%                                 0.781735  ...   \n",
              "max                                 1.000000  ...   \n",
              "\n",
              "        Net Income to Total Assets   Total assets to GNP price  \\\n",
              "count                  6819.000000                6.819000e+03   \n",
              "mean                      0.807760                1.862942e+07   \n",
              "std                       0.040332                3.764501e+08   \n",
              "min                       0.000000                0.000000e+00   \n",
              "25%                       0.796750                9.036205e-04   \n",
              "50%                       0.810619                2.085213e-03   \n",
              "75%                       0.826455                5.269777e-03   \n",
              "max                       1.000000                9.820000e+09   \n",
              "\n",
              "        No-credit Interval   Gross Profit to Sales  \\\n",
              "count          6819.000000             6819.000000   \n",
              "mean              0.623915                0.607946   \n",
              "std               0.012290                0.016934   \n",
              "min               0.000000                0.000000   \n",
              "25%               0.623636                0.600443   \n",
              "50%               0.623879                0.605998   \n",
              "75%               0.624168                0.613913   \n",
              "max               1.000000                1.000000   \n",
              "\n",
              "        Net Income to Stockholder's Equity   Liability to Equity  \\\n",
              "count                          6819.000000           6819.000000   \n",
              "mean                              0.840402              0.280365   \n",
              "std                               0.014523              0.014463   \n",
              "min                               0.000000              0.000000   \n",
              "25%                               0.840115              0.276944   \n",
              "50%                               0.841179              0.278778   \n",
              "75%                               0.842357              0.281449   \n",
              "max                               1.000000              1.000000   \n",
              "\n",
              "        Degree of Financial Leverage (DFL)  \\\n",
              "count                          6819.000000   \n",
              "mean                              0.027541   \n",
              "std                               0.015668   \n",
              "min                               0.000000   \n",
              "25%                               0.026791   \n",
              "50%                               0.026808   \n",
              "75%                               0.026913   \n",
              "max                               1.000000   \n",
              "\n",
              "        Interest Coverage Ratio (Interest expense to EBIT)   Net Income Flag  \\\n",
              "count                                        6819.000000              6819.0   \n",
              "mean                                            0.565358                 1.0   \n",
              "std                                             0.013214                 0.0   \n",
              "min                                             0.000000                 1.0   \n",
              "25%                                             0.565158                 1.0   \n",
              "50%                                             0.565252                 1.0   \n",
              "75%                                             0.565725                 1.0   \n",
              "max                                             1.000000                 1.0   \n",
              "\n",
              "        Equity to Liability  \n",
              "count           6819.000000  \n",
              "mean               0.047578  \n",
              "std                0.050014  \n",
              "min                0.000000  \n",
              "25%                0.024477  \n",
              "50%                0.033798  \n",
              "75%                0.052838  \n",
              "max                1.000000  \n",
              "\n",
              "[8 rows x 95 columns]"
            ]
          },
          "execution_count": 9,
          "metadata": {},
          "output_type": "execute_result"
        }
      ],
      "source": [
        "df.describe()"
      ]
    },
    {
      "cell_type": "code",
      "execution_count": null,
      "metadata": {
        "colab": {
          "base_uri": "https://localhost:8080/",
          "height": 279
        },
        "id": "P4p2CooyafJn",
        "outputId": "6c975d23-5efb-4df4-ce0b-0aacc82a3257"
      },
      "outputs": [
        {
          "data": {
            "image/png": "[encoded data removed]",
            "text/plain": [
              "<Figure size 432x288 with 1 Axes>"
            ]
          },
          "metadata": {},
          "output_type": "display_data"
        }
      ],
      "source": [
        "q1,q9 = df[\" Operating Profit Rate\"].quantile([0.1,0.9])\n",
        "mask=df[\" Operating Profit Rate\"].between(q1,q9)\n",
        "sns.boxplot(x=\"Bankrupt\",y=\" Operating Profit Rate\", data=df[mask]);"
      ]
    },
    {
      "cell_type": "code",
      "execution_count": null,
      "metadata": {
        "colab": {
          "base_uri": "https://localhost:8080/",
          "height": 539
        },
        "id": "ucTTW3j6bVsE",
        "outputId": "573ac086-c986-4612-e124-fcbea22c42a2"
      },
      "outputs": [
        {
          "data": {
            "image/png": "[encoded data removed]",
            "text/plain": [
              "<Figure size 432x288 with 2 Axes>"
            ]
          },
          "metadata": {},
          "output_type": "display_data"
        }
      ],
      "source": [
        "corr = df.drop(columns=\"Bankrupt\").corr()\n",
        "sns.heatmap(corr);"
      ]
    },
    {
      "cell_type": "code",
      "execution_count": null,
      "metadata": {
        "id": "B7MkKJnMbaY4"
      },
      "outputs": [],
      "source": [
        "#it can be seen that there are a lot multicollinearity issues, skewed features, and the data is inbalanced. \n",
        "#all that in mind for this model it is better not to use regression (logistic regression).\n",
        "#it is better to use decision tree model."
      ]
    },
    {
      "cell_type": "code",
      "execution_count": null,
      "metadata": {
        "colab": {
          "base_uri": "https://localhost:8080/"
        },
        "id": "kiko0wPabbGi",
        "outputId": "7a20bbb2-0191-4b24-98dd-a17ebf33ff09"
      },
      "outputs": [
        {
          "name": "stdout",
          "output_type": "stream",
          "text": [
            "X_train shape: (5455, 95)\n",
            "y_train shape: (5455,)\n",
            "X_test shape: (1364, 95)\n",
            "y_test shape: (1364,)\n"
          ]
        }
      ],
      "source": [
        "#SPLIT\n",
        "target = \"Bankrupt\"\n",
        "X = df.drop(columns=target)\n",
        "y = df[target]\n",
        "X_train, X_test, y_train, y_test = train_test_split(\n",
        "X, y, test_size=0.2, random_state=42\n",
        ")\n",
        "print(\"X_train shape:\", X_train.shape)\n",
        "print(\"y_train shape:\", y_train.shape)\n",
        "print(\"X_test shape:\", X_test.shape)\n",
        "print(\"y_test shape:\", y_test.shape)"
      ]
    },
    {
      "cell_type": "code",
      "execution_count": null,
      "metadata": {
        "colab": {
          "base_uri": "https://localhost:8080/"
        },
        "id": "UENJguLLbwb-",
        "outputId": "2a9e3c1e-cd96-4f39-d17a-110e66a2e8d3"
      },
      "outputs": [
        {
          "data": {
            "text/plain": [
              "False    0.969019\n",
              "True     0.030981\n",
              "Name: Bankrupt, dtype: float64"
            ]
          },
          "execution_count": 30,
          "metadata": {},
          "output_type": "execute_result"
        }
      ],
      "source": [
        "y_train.value_counts(normalize = True)"
      ]
    },
    {
      "cell_type": "code",
      "execution_count": null,
      "metadata": {
        "colab": {
          "base_uri": "https://localhost:8080/"
        },
        "id": "1HfVqP2lbzwY",
        "outputId": "4afdfa08-2064-4713-a652-e2cdaba6e2bb"
      },
      "outputs": [
        {
          "name": "stdout",
          "output_type": "stream",
          "text": [
            "(338, 95)\n"
          ]
        }
      ],
      "source": [
        "under_sampler = RandomUnderSampler(random_state=42)\n",
        "X_train_under, y_train_under = under_sampler.fit_resample(X_train,y_train)\n",
        "print(X_train_under.shape)"
      ]
    },
    {
      "cell_type": "code",
      "execution_count": null,
      "metadata": {
        "colab": {
          "background_save": true,
          "base_uri": "https://localhost:8080/"
        },
        "id": "Ww4l9Z7EcAOu",
        "outputId": "2d61c710-11ec-44b3-a8da-ddc1c1946c32"
      },
      "outputs": [
        {
          "name": "stdout",
          "output_type": "stream",
          "text": [
            "(10572, 95)\n"
          ]
        }
      ],
      "source": [
        "over_sampler = RandomOverSampler(random_state=42)\n",
        "X_train_over, y_train_over = over_sampler.fit_resample(X_train,y_train)\n",
        "print(X_train_over.shape)"
      ]
    },
    {
      "cell_type": "code",
      "execution_count": null,
      "metadata": {
        "colab": {
          "base_uri": "https://localhost:8080/"
        },
        "id": "lBrzjZpicExW",
        "outputId": "7ab19e43-57c8-4d02-e0cb-0e7912b39077"
      },
      "outputs": [
        {
          "name": "stdout",
          "output_type": "stream",
          "text": [
            "Baseline Accuracy: 0.969\n"
          ]
        }
      ],
      "source": [
        "acc_baseline = y_train.value_counts(normalize=True).max()\n",
        "print(\"Baseline Accuracy:\", round(acc_baseline, 4))\n",
        "#it is very high because the data is imbalanced"
      ]
    },
    {
      "cell_type": "code",
      "execution_count": null,
      "metadata": {
        "colab": {
          "base_uri": "https://localhost:8080/",
          "height": 74
        },
        "id": "Fo4o16_OcIcx",
        "outputId": "1c3e194f-39e3-4647-b9cd-069a96a9ab1a"
      },
      "outputs": [
        {
          "data": {
            "text/html": [
              "<style>#sk-container-id-1 {color: black;background-color: white;}#sk-container-id-1 pre{padding: 0;}#sk-container-id-1 div.sk-toggleable {background-color: white;}#sk-container-id-1 label.sk-toggleable__label {cursor: pointer;display: block;width: 100%;margin-bottom: 0;padding: 0.3em;box-sizing: border-box;text-align: center;}#sk-container-id-1 label.sk-toggleable__label-arrow:before {content: \"▸\";float: left;margin-right: 0.25em;color: #696969;}#sk-container-id-1 label.sk-toggleable__label-arrow:hover:before {color: black;}#sk-container-id-1 div.sk-estimator:hover label.sk-toggleable__label-arrow:before {color: black;}#sk-container-id-1 div.sk-toggleable__content {max-height: 0;max-width: 0;overflow: hidden;text-align: left;background-color: #f0f8ff;}#sk-container-id-1 div.sk-toggleable__content pre {margin: 0.2em;color: black;border-radius: 0.25em;background-color: #f0f8ff;}#sk-container-id-1 input.sk-toggleable__control:checked~div.sk-toggleable__content {max-height: 200px;max-width: 100%;overflow: auto;}#sk-container-id-1 input.sk-toggleable__control:checked~label.sk-toggleable__label-arrow:before {content: \"▾\";}#sk-container-id-1 div.sk-estimator input.sk-toggleable__control:checked~label.sk-toggleable__label {background-color: #d4ebff;}#sk-container-id-1 div.sk-label input.sk-toggleable__control:checked~label.sk-toggleable__label {background-color: #d4ebff;}#sk-container-id-1 input.sk-hidden--visually {border: 0;clip: rect(1px 1px 1px 1px);clip: rect(1px, 1px, 1px, 1px);height: 1px;margin: -1px;overflow: hidden;padding: 0;position: absolute;width: 1px;}#sk-container-id-1 div.sk-estimator {font-family: monospace;background-color: #f0f8ff;border: 1px dotted black;border-radius: 0.25em;box-sizing: border-box;margin-bottom: 0.5em;}#sk-container-id-1 div.sk-estimator:hover {background-color: #d4ebff;}#sk-container-id-1 div.sk-parallel-item::after {content: \"\";width: 100%;border-bottom: 1px solid gray;flex-grow: 1;}#sk-container-id-1 div.sk-label:hover label.sk-toggleable__label {background-color: #d4ebff;}#sk-container-id-1 div.sk-serial::before {content: \"\";position: absolute;border-left: 1px solid gray;box-sizing: border-box;top: 0;bottom: 0;left: 50%;z-index: 0;}#sk-container-id-1 div.sk-serial {display: flex;flex-direction: column;align-items: center;background-color: white;padding-right: 0.2em;padding-left: 0.2em;position: relative;}#sk-container-id-1 div.sk-item {position: relative;z-index: 1;}#sk-container-id-1 div.sk-parallel {display: flex;align-items: stretch;justify-content: center;background-color: white;position: relative;}#sk-container-id-1 div.sk-item::before, #sk-container-id-1 div.sk-parallel-item::before {content: \"\";position: absolute;border-left: 1px solid gray;box-sizing: border-box;top: 0;bottom: 0;left: 50%;z-index: -1;}#sk-container-id-1 div.sk-parallel-item {display: flex;flex-direction: column;z-index: 1;position: relative;background-color: white;}#sk-container-id-1 div.sk-parallel-item:first-child::after {align-self: flex-end;width: 50%;}#sk-container-id-1 div.sk-parallel-item:last-child::after {align-self: flex-start;width: 50%;}#sk-container-id-1 div.sk-parallel-item:only-child::after {width: 0;}#sk-container-id-1 div.sk-dashed-wrapped {border: 1px dashed gray;margin: 0 0.4em 0.5em 0.4em;box-sizing: border-box;padding-bottom: 0.4em;background-color: white;}#sk-container-id-1 div.sk-label label {font-family: monospace;font-weight: bold;display: inline-block;line-height: 1.2em;}#sk-container-id-1 div.sk-label-container {text-align: center;}#sk-container-id-1 div.sk-container {/* jupyter's `normalize.less` sets `[hidden] { display: none; }` but bootstrap.min.css set `[hidden] { display: none !important; }` so we also need the `!important` here to be able to override the default hidden behavior on the sphinx rendered scikit-learn.org. See: https://github.com/scikit-learn/scikit-learn/issues/21755 */display: inline-block !important;position: relative;}#sk-container-id-1 div.sk-text-repr-fallback {display: none;}</style><div id=\"sk-container-id-1\" class=\"sk-top-container\"><div class=\"sk-text-repr-fallback\"><pre>DecisionTreeClassifier(random_state=42)</pre><b>In a Jupyter environment, please rerun this cell to show the HTML representation or trust the notebook. <br />On GitHub, the HTML representation is unable to render, please try loading this page with nbviewer.org.</b></div><div class=\"sk-container\" hidden><div class=\"sk-item\"><div class=\"sk-estimator sk-toggleable\"><input class=\"sk-toggleable__control sk-hidden--visually\" id=\"sk-estimator-id-1\" type=\"checkbox\" checked><label for=\"sk-estimator-id-1\" class=\"sk-toggleable__label sk-toggleable__label-arrow\">DecisionTreeClassifier</label><div class=\"sk-toggleable__content\"><pre>DecisionTreeClassifier(random_state=42)</pre></div></div></div></div></div>"
            ],
            "text/plain": [
              "DecisionTreeClassifier(random_state=42)"
            ]
          },
          "execution_count": 34,
          "metadata": {},
          "output_type": "execute_result"
        }
      ],
      "source": [
        "#DECISION TREE ALGORITHM\n",
        "model_reg = DecisionTreeClassifier(random_state=42)\n",
        "\n",
        "model_reg.fit(X_train, y_train)\n",
        "\n",
        "model_under = DecisionTreeClassifier(random_state=42)\n",
        "\n",
        "model_under.fit(X_train_under, y_train_under)\n",
        "\n",
        "model_over =  DecisionTreeClassifier(random_state=42)\n",
        "\n",
        "model_over.fit(X_train_over, y_train_over)"
      ]
    },
    {
      "cell_type": "code",
      "execution_count": null,
      "metadata": {
        "colab": {
          "base_uri": "https://localhost:8080/"
        },
        "id": "aajNag70cQ32",
        "outputId": "153f13f7-d797-4cbc-d03d-f34971e58db9"
      },
      "outputs": [
        {
          "name": "stdout",
          "output_type": "stream",
          "text": [
            "Training Accuracy: 1.0\n",
            "Test Accuracy: 0.9531\n",
            "Training Accuracy: 0.813\n",
            "Test Accuracy: 0.8057\n",
            "Training Accuracy: 1.0\n",
            "Test Accuracy: 0.9604\n"
          ]
        }
      ],
      "source": [
        "for m in [model_reg, model_under, model_over]:\n",
        "    acc_train = m.score(X_train,y_train)\n",
        "    acc_test = m.score(X_test,y_test)\n",
        "\n",
        "    print(\"Training Accuracy:\", round(acc_train, 4))\n",
        "    print(\"Test Accuracy:\", round(acc_test, 4))"
      ]
    },
    {
      "cell_type": "code",
      "execution_count": null,
      "metadata": {
        "id": "7SjOq6VYcVMG"
      },
      "outputs": [],
      "source": [
        "#what we see above is that none of them beat the baseline but over sampling score is much better."
      ]
    },
    {
      "cell_type": "code",
      "execution_count": null,
      "metadata": {
        "colab": {
          "base_uri": "https://localhost:8080/",
          "height": 279
        },
        "id": "5f1eaU7ScXx-",
        "outputId": "937f8088-14e8-4905-91c3-88c468259c7d"
      },
      "outputs": [
        {
          "data": {
            "image/png": "[encoded data removed]",
            "text/plain": [
              "<Figure size 432x288 with 2 Axes>"
            ]
          },
          "metadata": {},
          "output_type": "display_data"
        }
      ],
      "source": [
        "ConfusionMatrixDisplay.from_estimator(model_over, X_test,y_test);"
      ]
    },
    {
      "cell_type": "code",
      "execution_count": null,
      "metadata": {
        "colab": {
          "base_uri": "https://localhost:8080/",
          "height": 295
        },
        "id": "PtG8kD3GcchY",
        "outputId": "4c310af2-3396-4b11-e647-58e53f134821"
      },
      "outputs": [
        {
          "data": {
            "image/png": "[encoded data removed]",
            "text/plain": [
              "<Figure size 432x288 with 1 Axes>"
            ]
          },
          "metadata": {},
          "output_type": "display_data"
        }
      ],
      "source": [
        "importances = model_over.feature_importances_\n",
        "\n",
        "feat_imp = pd.Series(importances, index=X_train_over.columns).sort_values()\n",
        "\n",
        "# Plot series\n",
        "feat_imp.tail(15).plot(kind=\"barh\")\n",
        "plt.xlabel(\"Gini Importance\")\n",
        "plt.ylabel(\"Feature\")\n",
        "plt.title(\"model_over Feature Importance\");"
      ]
    }
  ],
  "metadata": {
    "colab": {
      "provenance": []
    },
    "kernelspec": {
      "display_name": "Python 3",
      "name": "python3"
    },
    "language_info": {
      "name": "python"
    }
  },
  "nbformat": 4,
  "nbformat_minor": 0
}