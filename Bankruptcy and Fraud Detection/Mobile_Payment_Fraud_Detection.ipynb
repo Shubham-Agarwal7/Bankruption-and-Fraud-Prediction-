{
  "nbformat": 4,
  "nbformat_minor": 0,
  "metadata": {
    "colab": {
      "provenance": []
    },
    "kernelspec": {
      "name": "python3",
      "display_name": "Python 3"
    },
    "language_info": {
      "name": "python"
    }
  },
  "cells": [
    {
      "cell_type": "markdown",
      "source": [
        "#Mobile Payment Fraud Detection"
      ],
      "metadata": {
        "id": "IaEtimdt_88d"
      }
    },
    {
      "cell_type": "code",
      "execution_count": null,
      "metadata": {
        "id": "yt6yk-bD_6lv"
      },
      "outputs": [],
      "source": [
        "import numpy as np\n",
        "import pandas as pd\n",
        "\n",
        "import matplotlib.pyplot as plt\n",
        "import seaborn as sns\n",
        "\n",
        "from sklearn.preprocessing import StandardScaler\n",
        "from sklearn.model_selection import train_test_split\n",
        "\n",
        "import tensorflow as tf\n",
        "\n",
        "from sklearn.metrics import confusion_matrix, classification_report"
      ]
    },
    {
      "cell_type": "code",
      "source": [
        "from google.colab import drive\n",
        "drive.mount('/content/drive')"
      ],
      "metadata": {
        "colab": {
          "base_uri": "https://localhost:8080/"
        },
        "id": "WYM4ZqN3Ww8E",
        "outputId": "1efab6a9-94c0-45c4-e8fe-b49811ea1485"
      },
      "execution_count": null,
      "outputs": [
        {
          "output_type": "stream",
          "name": "stdout",
          "text": [
            "Mounted at /content/drive\n"
          ]
        }
      ]
    },
    {
      "cell_type": "markdown",
      "source": [
        "#Importing Dataset "
      ],
      "metadata": {
        "id": "9Eb9BNlECTrB"
      }
    },
    {
      "cell_type": "code",
      "source": [
        "#Since Dataset Contains arond 6million data value we will train model for 50000 values\n",
        "data = pd.read_csv('/content/drive/MyDrive/PBL 6th Sem/PS_20174392719_1491204439457_log.csv', nrows=50000)"
      ],
      "metadata": {
        "id": "tYIITnKVB6Uq"
      },
      "execution_count": null,
      "outputs": []
    },
    {
      "cell_type": "code",
      "source": [
        "data.head(5)"
      ],
      "metadata": {
        "colab": {
          "base_uri": "https://localhost:8080/",
          "height": 206
        },
        "id": "OaNca-5cCLws",
        "outputId": "bcca6193-1667-488f-add2-e1037034e699"
      },
      "execution_count": null,
      "outputs": [
        {
          "output_type": "execute_result",
          "data": {
            "text/plain": [
              "   step      type    amount     nameOrig  oldbalanceOrg  newbalanceOrig  \\\n",
              "0     1   PAYMENT   9839.64  C1231006815       170136.0       160296.36   \n",
              "1     1   PAYMENT   1864.28  C1666544295        21249.0        19384.72   \n",
              "2     1  TRANSFER    181.00  C1305486145          181.0            0.00   \n",
              "3     1  CASH_OUT    181.00   C840083671          181.0            0.00   \n",
              "4     1   PAYMENT  11668.14  C2048537720        41554.0        29885.86   \n",
              "\n",
              "      nameDest  oldbalanceDest  newbalanceDest  isFraud  isFlaggedFraud  \n",
              "0  M1979787155             0.0             0.0        0               0  \n",
              "1  M2044282225             0.0             0.0        0               0  \n",
              "2   C553264065             0.0             0.0        1               0  \n",
              "3    C38997010         21182.0             0.0        1               0  \n",
              "4  M1230701703             0.0             0.0        0               0  "
            ],
            "text/html": [
              "\n",
              "  <div id=\"df-62526748-af09-45da-b77b-4c5b39695f0e\">\n",
              "    <div class=\"colab-df-container\">\n",
              "      <div>\n",
              "<style scoped>\n",
              "    .dataframe tbody tr th:only-of-type {\n",
              "        vertical-align: middle;\n",
              "    }\n",
              "\n",
              "    .dataframe tbody tr th {\n",
              "        vertical-align: top;\n",
              "    }\n",
              "\n",
              "    .dataframe thead th {\n",
              "        text-align: right;\n",
              "    }\n",
              "</style>\n",
              "<table border=\"1\" class=\"dataframe\">\n",
              "  <thead>\n",
              "    <tr style=\"text-align: right;\">\n",
              "      <th></th>\n",
              "      <th>step</th>\n",
              "      <th>type</th>\n",
              "      <th>amount</th>\n",
              "      <th>nameOrig</th>\n",
              "      <th>oldbalanceOrg</th>\n",
              "      <th>newbalanceOrig</th>\n",
              "      <th>nameDest</th>\n",
              "      <th>oldbalanceDest</th>\n",
              "      <th>newbalanceDest</th>\n",
              "      <th>isFraud</th>\n",
              "      <th>isFlaggedFraud</th>\n",
              "    </tr>\n",
              "  </thead>\n",
              "  <tbody>\n",
              "    <tr>\n",
              "      <th>0</th>\n",
              "      <td>1</td>\n",
              "      <td>PAYMENT</td>\n",
              "      <td>9839.64</td>\n",
              "      <td>C1231006815</td>\n",
              "      <td>170136.0</td>\n",
              "      <td>160296.36</td>\n",
              "      <td>M1979787155</td>\n",
              "      <td>0.0</td>\n",
              "      <td>0.0</td>\n",
              "      <td>0</td>\n",
              "      <td>0</td>\n",
              "    </tr>\n",
              "    <tr>\n",
              "      <th>1</th>\n",
              "      <td>1</td>\n",
              "      <td>PAYMENT</td>\n",
              "      <td>1864.28</td>\n",
              "      <td>C1666544295</td>\n",
              "      <td>21249.0</td>\n",
              "      <td>19384.72</td>\n",
              "      <td>M2044282225</td>\n",
              "      <td>0.0</td>\n",
              "      <td>0.0</td>\n",
              "      <td>0</td>\n",
              "      <td>0</td>\n",
              "    </tr>\n",
              "    <tr>\n",
              "      <th>2</th>\n",
              "      <td>1</td>\n",
              "      <td>TRANSFER</td>\n",
              "      <td>181.00</td>\n",
              "      <td>C1305486145</td>\n",
              "      <td>181.0</td>\n",
              "      <td>0.00</td>\n",
              "      <td>C553264065</td>\n",
              "      <td>0.0</td>\n",
              "      <td>0.0</td>\n",
              "      <td>1</td>\n",
              "      <td>0</td>\n",
              "    </tr>\n",
              "    <tr>\n",
              "      <th>3</th>\n",
              "      <td>1</td>\n",
              "      <td>CASH_OUT</td>\n",
              "      <td>181.00</td>\n",
              "      <td>C840083671</td>\n",
              "      <td>181.0</td>\n",
              "      <td>0.00</td>\n",
              "      <td>C38997010</td>\n",
              "      <td>21182.0</td>\n",
              "      <td>0.0</td>\n",
              "      <td>1</td>\n",
              "      <td>0</td>\n",
              "    </tr>\n",
              "    <tr>\n",
              "      <th>4</th>\n",
              "      <td>1</td>\n",
              "      <td>PAYMENT</td>\n",
              "      <td>11668.14</td>\n",
              "      <td>C2048537720</td>\n",
              "      <td>41554.0</td>\n",
              "      <td>29885.86</td>\n",
              "      <td>M1230701703</td>\n",
              "      <td>0.0</td>\n",
              "      <td>0.0</td>\n",
              "      <td>0</td>\n",
              "      <td>0</td>\n",
              "    </tr>\n",
              "  </tbody>\n",
              "</table>\n",
              "</div>\n",
              "      <button class=\"colab-df-convert\" onclick=\"convertToInteractive('df-62526748-af09-45da-b77b-4c5b39695f0e')\"\n",
              "              title=\"Convert this dataframe to an interactive table.\"\n",
              "              style=\"display:none;\">\n",
              "        \n",
              "  <svg xmlns=\"http://www.w3.org/2000/svg\" height=\"24px\"viewBox=\"0 0 24 24\"\n",
              "       width=\"24px\">\n",
              "    <path d=\"M0 0h24v24H0V0z\" fill=\"none\"/>\n",
              "    <path d=\"M18.56 5.44l.94 2.06.94-2.06 2.06-.94-2.06-.94-.94-2.06-.94 2.06-2.06.94zm-11 1L8.5 8.5l.94-2.06 2.06-.94-2.06-.94L8.5 2.5l-.94 2.06-2.06.94zm10 10l.94 2.06.94-2.06 2.06-.94-2.06-.94-.94-2.06-.94 2.06-2.06.94z\"/><path d=\"M17.41 7.96l-1.37-1.37c-.4-.4-.92-.59-1.43-.59-.52 0-1.04.2-1.43.59L10.3 9.45l-7.72 7.72c-.78.78-.78 2.05 0 2.83L4 21.41c.39.39.9.59 1.41.59.51 0 1.02-.2 1.41-.59l7.78-7.78 2.81-2.81c.8-.78.8-2.07 0-2.86zM5.41 20L4 18.59l7.72-7.72 1.47 1.35L5.41 20z\"/>\n",
              "  </svg>\n",
              "      </button>\n",
              "      \n",
              "  <style>\n",
              "    .colab-df-container {\n",
              "      display:flex;\n",
              "      flex-wrap:wrap;\n",
              "      gap: 12px;\n",
              "    }\n",
              "\n",
              "    .colab-df-convert {\n",
              "      background-color: #E8F0FE;\n",
              "      border: none;\n",
              "      border-radius: 50%;\n",
              "      cursor: pointer;\n",
              "      display: none;\n",
              "      fill: #1967D2;\n",
              "      height: 32px;\n",
              "      padding: 0 0 0 0;\n",
              "      width: 32px;\n",
              "    }\n",
              "\n",
              "    .colab-df-convert:hover {\n",
              "      background-color: #E2EBFA;\n",
              "      box-shadow: 0px 1px 2px rgba(60, 64, 67, 0.3), 0px 1px 3px 1px rgba(60, 64, 67, 0.15);\n",
              "      fill: #174EA6;\n",
              "    }\n",
              "\n",
              "    [theme=dark] .colab-df-convert {\n",
              "      background-color: #3B4455;\n",
              "      fill: #D2E3FC;\n",
              "    }\n",
              "\n",
              "    [theme=dark] .colab-df-convert:hover {\n",
              "      background-color: #434B5C;\n",
              "      box-shadow: 0px 1px 3px 1px rgba(0, 0, 0, 0.15);\n",
              "      filter: drop-shadow(0px 1px 2px rgba(0, 0, 0, 0.3));\n",
              "      fill: #FFFFFF;\n",
              "    }\n",
              "  </style>\n",
              "\n",
              "      <script>\n",
              "        const buttonEl =\n",
              "          document.querySelector('#df-62526748-af09-45da-b77b-4c5b39695f0e button.colab-df-convert');\n",
              "        buttonEl.style.display =\n",
              "          google.colab.kernel.accessAllowed ? 'block' : 'none';\n",
              "\n",
              "        async function convertToInteractive(key) {\n",
              "          const element = document.querySelector('#df-62526748-af09-45da-b77b-4c5b39695f0e');\n",
              "          const dataTable =\n",
              "            await google.colab.kernel.invokeFunction('convertToInteractive',\n",
              "                                                     [key], {});\n",
              "          if (!dataTable) return;\n",
              "\n",
              "          const docLinkHtml = 'Like what you see? Visit the ' +\n",
              "            '<a target=\"_blank\" href=https://colab.research.google.com/notebooks/data_table.ipynb>data table notebook</a>'\n",
              "            + ' to learn more about interactive tables.';\n",
              "          element.innerHTML = '';\n",
              "          dataTable['output_type'] = 'display_data';\n",
              "          await google.colab.output.renderOutput(dataTable, element);\n",
              "          const docLink = document.createElement('div');\n",
              "          docLink.innerHTML = docLinkHtml;\n",
              "          element.appendChild(docLink);\n",
              "        }\n",
              "      </script>\n",
              "    </div>\n",
              "  </div>\n",
              "  "
            ]
          },
          "metadata": {},
          "execution_count": 4
        }
      ]
    },
    {
      "cell_type": "code",
      "source": [
        "data.info()"
      ],
      "metadata": {
        "colab": {
          "base_uri": "https://localhost:8080/"
        },
        "id": "8nncJAOKCR0P",
        "outputId": "63e8fe9c-f0a0-4846-a312-74fb8bf69148"
      },
      "execution_count": null,
      "outputs": [
        {
          "output_type": "stream",
          "name": "stdout",
          "text": [
            "<class 'pandas.core.frame.DataFrame'>\n",
            "RangeIndex: 50000 entries, 0 to 49999\n",
            "Data columns (total 11 columns):\n",
            " #   Column          Non-Null Count  Dtype  \n",
            "---  ------          --------------  -----  \n",
            " 0   step            50000 non-null  int64  \n",
            " 1   type            50000 non-null  object \n",
            " 2   amount          50000 non-null  float64\n",
            " 3   nameOrig        50000 non-null  object \n",
            " 4   oldbalanceOrg   50000 non-null  float64\n",
            " 5   newbalanceOrig  50000 non-null  float64\n",
            " 6   nameDest        50000 non-null  object \n",
            " 7   oldbalanceDest  50000 non-null  float64\n",
            " 8   newbalanceDest  50000 non-null  float64\n",
            " 9   isFraud         50000 non-null  int64  \n",
            " 10  isFlaggedFraud  50000 non-null  int64  \n",
            "dtypes: float64(5), int64(3), object(3)\n",
            "memory usage: 4.2+ MB\n"
          ]
        }
      ]
    },
    {
      "cell_type": "code",
      "source": [
        "data['isFraud'].value_counts()"
      ],
      "metadata": {
        "colab": {
          "base_uri": "https://localhost:8080/"
        },
        "id": "8HIKJb6MDEt8",
        "outputId": "85d638d0-4fc6-4692-e1f2-62e66c7409fb"
      },
      "execution_count": null,
      "outputs": [
        {
          "output_type": "execute_result",
          "data": {
            "text/plain": [
              "0    49900\n",
              "1      100\n",
              "Name: isFraud, dtype: int64"
            ]
          },
          "metadata": {},
          "execution_count": 6
        }
      ]
    },
    {
      "cell_type": "markdown",
      "source": [
        "#Preprocessing "
      ],
      "metadata": {
        "id": "tiS-83RrDIC8"
      }
    },
    {
      "cell_type": "code",
      "source": [
        "{column: len(data[column].unique()) for column in data.columns}"
      ],
      "metadata": {
        "colab": {
          "base_uri": "https://localhost:8080/"
        },
        "id": "bXhRj5V3DLAr",
        "outputId": "1f753885-9ea5-4226-e958-5bf10dc97a17"
      },
      "execution_count": null,
      "outputs": [
        {
          "output_type": "execute_result",
          "data": {
            "text/plain": [
              "{'step': 9,\n",
              " 'type': 5,\n",
              " 'amount': 49786,\n",
              " 'nameOrig': 50000,\n",
              " 'oldbalanceOrg': 30572,\n",
              " 'newbalanceOrig': 24328,\n",
              " 'nameDest': 28499,\n",
              " 'oldbalanceDest': 25369,\n",
              " 'newbalanceDest': 9367,\n",
              " 'isFraud': 2,\n",
              " 'isFlaggedFraud': 1}"
            ]
          },
          "metadata": {},
          "execution_count": 7
        }
      ]
    },
    {
      "cell_type": "code",
      "source": [
        "data['type'].unique()"
      ],
      "metadata": {
        "colab": {
          "base_uri": "https://localhost:8080/"
        },
        "id": "XYD4c2iJDQAD",
        "outputId": "bb2421d4-227d-4a55-e6a8-ed6fe52971f5"
      },
      "execution_count": null,
      "outputs": [
        {
          "output_type": "execute_result",
          "data": {
            "text/plain": [
              "array(['PAYMENT', 'TRANSFER', 'CASH_OUT', 'DEBIT', 'CASH_IN'],\n",
              "      dtype=object)"
            ]
          },
          "metadata": {},
          "execution_count": 8
        }
      ]
    },
    {
      "cell_type": "code",
      "source": [
        "pd.get_dummies(data['type'], prefix='tp')"
      ],
      "metadata": {
        "colab": {
          "base_uri": "https://localhost:8080/",
          "height": 423
        },
        "id": "1ZjCV8hLDyPc",
        "outputId": "6166f349-f458-4c12-b2b8-3047057394f1"
      },
      "execution_count": null,
      "outputs": [
        {
          "output_type": "execute_result",
          "data": {
            "text/plain": [
              "       tp_CASH_IN  tp_CASH_OUT  tp_DEBIT  tp_PAYMENT  tp_TRANSFER\n",
              "0               0            0         0           1            0\n",
              "1               0            0         0           1            0\n",
              "2               0            0         0           0            1\n",
              "3               0            1         0           0            0\n",
              "4               0            0         0           1            0\n",
              "...           ...          ...       ...         ...          ...\n",
              "49995           0            0         0           1            0\n",
              "49996           0            0         0           1            0\n",
              "49997           0            0         0           1            0\n",
              "49998           0            0         0           1            0\n",
              "49999           0            0         0           1            0\n",
              "\n",
              "[50000 rows x 5 columns]"
            ],
            "text/html": [
              "\n",
              "  <div id=\"df-c4a36144-3dbf-4618-bdc5-d713ebd3bec7\">\n",
              "    <div class=\"colab-df-container\">\n",
              "      <div>\n",
              "<style scoped>\n",
              "    .dataframe tbody tr th:only-of-type {\n",
              "        vertical-align: middle;\n",
              "    }\n",
              "\n",
              "    .dataframe tbody tr th {\n",
              "        vertical-align: top;\n",
              "    }\n",
              "\n",
              "    .dataframe thead th {\n",
              "        text-align: right;\n",
              "    }\n",
              "</style>\n",
              "<table border=\"1\" class=\"dataframe\">\n",
              "  <thead>\n",
              "    <tr style=\"text-align: right;\">\n",
              "      <th></th>\n",
              "      <th>tp_CASH_IN</th>\n",
              "      <th>tp_CASH_OUT</th>\n",
              "      <th>tp_DEBIT</th>\n",
              "      <th>tp_PAYMENT</th>\n",
              "      <th>tp_TRANSFER</th>\n",
              "    </tr>\n",
              "  </thead>\n",
              "  <tbody>\n",
              "    <tr>\n",
              "      <th>0</th>\n",
              "      <td>0</td>\n",
              "      <td>0</td>\n",
              "      <td>0</td>\n",
              "      <td>1</td>\n",
              "      <td>0</td>\n",
              "    </tr>\n",
              "    <tr>\n",
              "      <th>1</th>\n",
              "      <td>0</td>\n",
              "      <td>0</td>\n",
              "      <td>0</td>\n",
              "      <td>1</td>\n",
              "      <td>0</td>\n",
              "    </tr>\n",
              "    <tr>\n",
              "      <th>2</th>\n",
              "      <td>0</td>\n",
              "      <td>0</td>\n",
              "      <td>0</td>\n",
              "      <td>0</td>\n",
              "      <td>1</td>\n",
              "    </tr>\n",
              "    <tr>\n",
              "      <th>3</th>\n",
              "      <td>0</td>\n",
              "      <td>1</td>\n",
              "      <td>0</td>\n",
              "      <td>0</td>\n",
              "      <td>0</td>\n",
              "    </tr>\n",
              "    <tr>\n",
              "      <th>4</th>\n",
              "      <td>0</td>\n",
              "      <td>0</td>\n",
              "      <td>0</td>\n",
              "      <td>1</td>\n",
              "      <td>0</td>\n",
              "    </tr>\n",
              "    <tr>\n",
              "      <th>...</th>\n",
              "      <td>...</td>\n",
              "      <td>...</td>\n",
              "      <td>...</td>\n",
              "      <td>...</td>\n",
              "      <td>...</td>\n",
              "    </tr>\n",
              "    <tr>\n",
              "      <th>49995</th>\n",
              "      <td>0</td>\n",
              "      <td>0</td>\n",
              "      <td>0</td>\n",
              "      <td>1</td>\n",
              "      <td>0</td>\n",
              "    </tr>\n",
              "    <tr>\n",
              "      <th>49996</th>\n",
              "      <td>0</td>\n",
              "      <td>0</td>\n",
              "      <td>0</td>\n",
              "      <td>1</td>\n",
              "      <td>0</td>\n",
              "    </tr>\n",
              "    <tr>\n",
              "      <th>49997</th>\n",
              "      <td>0</td>\n",
              "      <td>0</td>\n",
              "      <td>0</td>\n",
              "      <td>1</td>\n",
              "      <td>0</td>\n",
              "    </tr>\n",
              "    <tr>\n",
              "      <th>49998</th>\n",
              "      <td>0</td>\n",
              "      <td>0</td>\n",
              "      <td>0</td>\n",
              "      <td>1</td>\n",
              "      <td>0</td>\n",
              "    </tr>\n",
              "    <tr>\n",
              "      <th>49999</th>\n",
              "      <td>0</td>\n",
              "      <td>0</td>\n",
              "      <td>0</td>\n",
              "      <td>1</td>\n",
              "      <td>0</td>\n",
              "    </tr>\n",
              "  </tbody>\n",
              "</table>\n",
              "<p>50000 rows × 5 columns</p>\n",
              "</div>\n",
              "      <button class=\"colab-df-convert\" onclick=\"convertToInteractive('df-c4a36144-3dbf-4618-bdc5-d713ebd3bec7')\"\n",
              "              title=\"Convert this dataframe to an interactive table.\"\n",
              "              style=\"display:none;\">\n",
              "        \n",
              "  <svg xmlns=\"http://www.w3.org/2000/svg\" height=\"24px\"viewBox=\"0 0 24 24\"\n",
              "       width=\"24px\">\n",
              "    <path d=\"M0 0h24v24H0V0z\" fill=\"none\"/>\n",
              "    <path d=\"M18.56 5.44l.94 2.06.94-2.06 2.06-.94-2.06-.94-.94-2.06-.94 2.06-2.06.94zm-11 1L8.5 8.5l.94-2.06 2.06-.94-2.06-.94L8.5 2.5l-.94 2.06-2.06.94zm10 10l.94 2.06.94-2.06 2.06-.94-2.06-.94-.94-2.06-.94 2.06-2.06.94z\"/><path d=\"M17.41 7.96l-1.37-1.37c-.4-.4-.92-.59-1.43-.59-.52 0-1.04.2-1.43.59L10.3 9.45l-7.72 7.72c-.78.78-.78 2.05 0 2.83L4 21.41c.39.39.9.59 1.41.59.51 0 1.02-.2 1.41-.59l7.78-7.78 2.81-2.81c.8-.78.8-2.07 0-2.86zM5.41 20L4 18.59l7.72-7.72 1.47 1.35L5.41 20z\"/>\n",
              "  </svg>\n",
              "      </button>\n",
              "      \n",
              "  <style>\n",
              "    .colab-df-container {\n",
              "      display:flex;\n",
              "      flex-wrap:wrap;\n",
              "      gap: 12px;\n",
              "    }\n",
              "\n",
              "    .colab-df-convert {\n",
              "      background-color: #E8F0FE;\n",
              "      border: none;\n",
              "      border-radius: 50%;\n",
              "      cursor: pointer;\n",
              "      display: none;\n",
              "      fill: #1967D2;\n",
              "      height: 32px;\n",
              "      padding: 0 0 0 0;\n",
              "      width: 32px;\n",
              "    }\n",
              "\n",
              "    .colab-df-convert:hover {\n",
              "      background-color: #E2EBFA;\n",
              "      box-shadow: 0px 1px 2px rgba(60, 64, 67, 0.3), 0px 1px 3px 1px rgba(60, 64, 67, 0.15);\n",
              "      fill: #174EA6;\n",
              "    }\n",
              "\n",
              "    [theme=dark] .colab-df-convert {\n",
              "      background-color: #3B4455;\n",
              "      fill: #D2E3FC;\n",
              "    }\n",
              "\n",
              "    [theme=dark] .colab-df-convert:hover {\n",
              "      background-color: #434B5C;\n",
              "      box-shadow: 0px 1px 3px 1px rgba(0, 0, 0, 0.15);\n",
              "      filter: drop-shadow(0px 1px 2px rgba(0, 0, 0, 0.3));\n",
              "      fill: #FFFFFF;\n",
              "    }\n",
              "  </style>\n",
              "\n",
              "      <script>\n",
              "        const buttonEl =\n",
              "          document.querySelector('#df-c4a36144-3dbf-4618-bdc5-d713ebd3bec7 button.colab-df-convert');\n",
              "        buttonEl.style.display =\n",
              "          google.colab.kernel.accessAllowed ? 'block' : 'none';\n",
              "\n",
              "        async function convertToInteractive(key) {\n",
              "          const element = document.querySelector('#df-c4a36144-3dbf-4618-bdc5-d713ebd3bec7');\n",
              "          const dataTable =\n",
              "            await google.colab.kernel.invokeFunction('convertToInteractive',\n",
              "                                                     [key], {});\n",
              "          if (!dataTable) return;\n",
              "\n",
              "          const docLinkHtml = 'Like what you see? Visit the ' +\n",
              "            '<a target=\"_blank\" href=https://colab.research.google.com/notebooks/data_table.ipynb>data table notebook</a>'\n",
              "            + ' to learn more about interactive tables.';\n",
              "          element.innerHTML = '';\n",
              "          dataTable['output_type'] = 'display_data';\n",
              "          await google.colab.output.renderOutput(dataTable, element);\n",
              "          const docLink = document.createElement('div');\n",
              "          docLink.innerHTML = docLinkHtml;\n",
              "          element.appendChild(docLink);\n",
              "        }\n",
              "      </script>\n",
              "    </div>\n",
              "  </div>\n",
              "  "
            ]
          },
          "metadata": {},
          "execution_count": 9
        }
      ]
    },
    {
      "cell_type": "code",
      "source": [
        "#Using onehot_encoding to make the type column in more valuable data \n",
        "def onehot_encode(df, column, prefix):\n",
        "    df = df.copy()\n",
        "    dummies = pd.get_dummies(df[column], prefix=prefix)\n",
        "    df = pd.concat([df, dummies], axis=1)\n",
        "    df = df.drop(column, axis=1)\n",
        "    return df"
      ],
      "metadata": {
        "id": "bryT4vh_D6j6"
      },
      "execution_count": null,
      "outputs": []
    },
    {
      "cell_type": "code",
      "source": [
        "def preprocess_inputs(df):\n",
        "    df = df.copy()\n",
        "\n",
        "    # Drop step, nameOrig, and isFlaggedFraud columns since wont affect the training of the model \n",
        "    df = df.drop(['step', 'nameOrig', 'isFlaggedFraud'], axis=1)\n",
        "    \n",
        "    # One-hot encode the type column\n",
        "    df = onehot_encode(df, column='type', prefix='tp')\n",
        "    \n",
        "    y = df['isFraud'].copy()\n",
        "    X = df.drop('isFraud', axis=1).copy()\n",
        "     \n",
        "    # Train-test split\n",
        "    X_train, X_test, y_train, y_test = train_test_split(X, y, train_size=0.7, random_state=123)\n",
        "\n",
        "\n",
        "    #Using Dense encoder to make namedest column valuable, Create a tokenizer and fit it to the customer data\n",
        "    tokenizer = tf.keras.preprocessing.text.Tokenizer()\n",
        "    tokenizer.fit_on_texts(X_train['nameDest'])\n",
        "    \n",
        "    print(\"Total # of customers:\", len(tokenizer.word_index))\n",
        "      \n",
        "    # Create tokenized customer lists\n",
        "    customers_train = tokenizer.texts_to_sequences(X_train['nameDest'])\n",
        "    customers_test = tokenizer.texts_to_sequences(X_test['nameDest'])\n",
        "  \n",
        "    # Pad sequences\n",
        "    customers_train = tf.keras.preprocessing.sequence.pad_sequences(customers_train, maxlen=1)\n",
        "    customers_test = tf.keras.preprocessing.sequence.pad_sequences(customers_test, maxlen=1)\n",
        "    \n",
        "    # Drop nameDest column\n",
        "    X_train = X_train.drop('nameDest', axis=1)\n",
        "    X_test = X_test.drop('nameDest', axis=1)\n",
        "    \n",
        "    \n",
        "    # Scale X with a standard scaler\n",
        "    scaler = StandardScaler()\n",
        "    scaler.fit(X_train)\n",
        "    \n",
        "    X_train = pd.DataFrame(scaler.transform(X_train), columns=X_train.columns)\n",
        "    X_test = pd.DataFrame(scaler.transform(X_test), columns=X_test.columns)\n",
        "    \n",
        "#Final List of Dataset used for modeling \n",
        "    return X_train, X_test, customers_train, customers_test, y_train, y_test"
      ],
      "metadata": {
        "id": "dxpoFgvdEBJn"
      },
      "execution_count": null,
      "outputs": []
    },
    {
      "cell_type": "code",
      "source": [
        "X_train, X_test, customers_train, customers_test, y_train, y_test = preprocess_inputs(data)"
      ],
      "metadata": {
        "colab": {
          "base_uri": "https://localhost:8080/"
        },
        "id": "SyaZAupWFTwe",
        "outputId": "044c7d08-815f-4a24-e2b3-0b874d30302e"
      },
      "execution_count": null,
      "outputs": [
        {
          "output_type": "stream",
          "name": "stdout",
          "text": [
            "Total # of customers: 21017\n"
          ]
        }
      ]
    },
    {
      "cell_type": "code",
      "source": [
        "customers_train"
      ],
      "metadata": {
        "colab": {
          "base_uri": "https://localhost:8080/"
        },
        "id": "fw-x3I5KFfSx",
        "outputId": "db3cf79c-37a6-4137-f5c7-25347e1de40e"
      },
      "execution_count": null,
      "outputs": [
        {
          "output_type": "execute_result",
          "data": {
            "text/plain": [
              "array([[ 3450],\n",
              "       [ 3451],\n",
              "       [  579],\n",
              "       ...,\n",
              "       [ 1149],\n",
              "       [  685],\n",
              "       [21017]], dtype=int32)"
            ]
          },
          "metadata": {},
          "execution_count": 13
        }
      ]
    },
    {
      "cell_type": "code",
      "source": [
        "X_train.head(5)"
      ],
      "metadata": {
        "colab": {
          "base_uri": "https://localhost:8080/",
          "height": 206
        },
        "id": "OuRzd_QgFh9w",
        "outputId": "8e1a6e9e-81ac-4f4c-a41d-d452dd538ed4"
      },
      "execution_count": null,
      "outputs": [
        {
          "output_type": "execute_result",
          "data": {
            "text/plain": [
              "     amount  oldbalanceOrg  newbalanceOrig  oldbalanceDest  newbalanceDest  \\\n",
              "0 -0.476533      -0.331007       -0.333246       -0.347251       -0.399715   \n",
              "1 -0.473382      -0.325069       -0.327862       -0.347251       -0.399715   \n",
              "2  0.659963       0.315640        0.469088        2.728245        2.704851   \n",
              "3  2.643818      -0.258553       -0.333403        2.149973        3.096149   \n",
              "4 -0.476656      -0.322919       -0.325276       -0.347251       -0.399715   \n",
              "\n",
              "   tp_CASH_IN  tp_CASH_OUT  tp_DEBIT  tp_PAYMENT  tp_TRANSFER  \n",
              "0   -0.465571    -0.618309 -0.115403    1.135244    -0.324425  \n",
              "1   -0.465571    -0.618309 -0.115403    1.135244    -0.324425  \n",
              "2    2.147900    -0.618309 -0.115403   -0.880868    -0.324425  \n",
              "3   -0.465571    -0.618309 -0.115403   -0.880868     3.082377  \n",
              "4   -0.465571    -0.618309 -0.115403    1.135244    -0.324425  "
            ],
            "text/html": [
              "\n",
              "  <div id=\"df-24008e95-7116-447c-a55f-6b26a2aa11e8\">\n",
              "    <div class=\"colab-df-container\">\n",
              "      <div>\n",
              "<style scoped>\n",
              "    .dataframe tbody tr th:only-of-type {\n",
              "        vertical-align: middle;\n",
              "    }\n",
              "\n",
              "    .dataframe tbody tr th {\n",
              "        vertical-align: top;\n",
              "    }\n",
              "\n",
              "    .dataframe thead th {\n",
              "        text-align: right;\n",
              "    }\n",
              "</style>\n",
              "<table border=\"1\" class=\"dataframe\">\n",
              "  <thead>\n",
              "    <tr style=\"text-align: right;\">\n",
              "      <th></th>\n",
              "      <th>amount</th>\n",
              "      <th>oldbalanceOrg</th>\n",
              "      <th>newbalanceOrig</th>\n",
              "      <th>oldbalanceDest</th>\n",
              "      <th>newbalanceDest</th>\n",
              "      <th>tp_CASH_IN</th>\n",
              "      <th>tp_CASH_OUT</th>\n",
              "      <th>tp_DEBIT</th>\n",
              "      <th>tp_PAYMENT</th>\n",
              "      <th>tp_TRANSFER</th>\n",
              "    </tr>\n",
              "  </thead>\n",
              "  <tbody>\n",
              "    <tr>\n",
              "      <th>0</th>\n",
              "      <td>-0.476533</td>\n",
              "      <td>-0.331007</td>\n",
              "      <td>-0.333246</td>\n",
              "      <td>-0.347251</td>\n",
              "      <td>-0.399715</td>\n",
              "      <td>-0.465571</td>\n",
              "      <td>-0.618309</td>\n",
              "      <td>-0.115403</td>\n",
              "      <td>1.135244</td>\n",
              "      <td>-0.324425</td>\n",
              "    </tr>\n",
              "    <tr>\n",
              "      <th>1</th>\n",
              "      <td>-0.473382</td>\n",
              "      <td>-0.325069</td>\n",
              "      <td>-0.327862</td>\n",
              "      <td>-0.347251</td>\n",
              "      <td>-0.399715</td>\n",
              "      <td>-0.465571</td>\n",
              "      <td>-0.618309</td>\n",
              "      <td>-0.115403</td>\n",
              "      <td>1.135244</td>\n",
              "      <td>-0.324425</td>\n",
              "    </tr>\n",
              "    <tr>\n",
              "      <th>2</th>\n",
              "      <td>0.659963</td>\n",
              "      <td>0.315640</td>\n",
              "      <td>0.469088</td>\n",
              "      <td>2.728245</td>\n",
              "      <td>2.704851</td>\n",
              "      <td>2.147900</td>\n",
              "      <td>-0.618309</td>\n",
              "      <td>-0.115403</td>\n",
              "      <td>-0.880868</td>\n",
              "      <td>-0.324425</td>\n",
              "    </tr>\n",
              "    <tr>\n",
              "      <th>3</th>\n",
              "      <td>2.643818</td>\n",
              "      <td>-0.258553</td>\n",
              "      <td>-0.333403</td>\n",
              "      <td>2.149973</td>\n",
              "      <td>3.096149</td>\n",
              "      <td>-0.465571</td>\n",
              "      <td>-0.618309</td>\n",
              "      <td>-0.115403</td>\n",
              "      <td>-0.880868</td>\n",
              "      <td>3.082377</td>\n",
              "    </tr>\n",
              "    <tr>\n",
              "      <th>4</th>\n",
              "      <td>-0.476656</td>\n",
              "      <td>-0.322919</td>\n",
              "      <td>-0.325276</td>\n",
              "      <td>-0.347251</td>\n",
              "      <td>-0.399715</td>\n",
              "      <td>-0.465571</td>\n",
              "      <td>-0.618309</td>\n",
              "      <td>-0.115403</td>\n",
              "      <td>1.135244</td>\n",
              "      <td>-0.324425</td>\n",
              "    </tr>\n",
              "  </tbody>\n",
              "</table>\n",
              "</div>\n",
              "      <button class=\"colab-df-convert\" onclick=\"convertToInteractive('df-24008e95-7116-447c-a55f-6b26a2aa11e8')\"\n",
              "              title=\"Convert this dataframe to an interactive table.\"\n",
              "              style=\"display:none;\">\n",
              "        \n",
              "  <svg xmlns=\"http://www.w3.org/2000/svg\" height=\"24px\"viewBox=\"0 0 24 24\"\n",
              "       width=\"24px\">\n",
              "    <path d=\"M0 0h24v24H0V0z\" fill=\"none\"/>\n",
              "    <path d=\"M18.56 5.44l.94 2.06.94-2.06 2.06-.94-2.06-.94-.94-2.06-.94 2.06-2.06.94zm-11 1L8.5 8.5l.94-2.06 2.06-.94-2.06-.94L8.5 2.5l-.94 2.06-2.06.94zm10 10l.94 2.06.94-2.06 2.06-.94-2.06-.94-.94-2.06-.94 2.06-2.06.94z\"/><path d=\"M17.41 7.96l-1.37-1.37c-.4-.4-.92-.59-1.43-.59-.52 0-1.04.2-1.43.59L10.3 9.45l-7.72 7.72c-.78.78-.78 2.05 0 2.83L4 21.41c.39.39.9.59 1.41.59.51 0 1.02-.2 1.41-.59l7.78-7.78 2.81-2.81c.8-.78.8-2.07 0-2.86zM5.41 20L4 18.59l7.72-7.72 1.47 1.35L5.41 20z\"/>\n",
              "  </svg>\n",
              "      </button>\n",
              "      \n",
              "  <style>\n",
              "    .colab-df-container {\n",
              "      display:flex;\n",
              "      flex-wrap:wrap;\n",
              "      gap: 12px;\n",
              "    }\n",
              "\n",
              "    .colab-df-convert {\n",
              "      background-color: #E8F0FE;\n",
              "      border: none;\n",
              "      border-radius: 50%;\n",
              "      cursor: pointer;\n",
              "      display: none;\n",
              "      fill: #1967D2;\n",
              "      height: 32px;\n",
              "      padding: 0 0 0 0;\n",
              "      width: 32px;\n",
              "    }\n",
              "\n",
              "    .colab-df-convert:hover {\n",
              "      background-color: #E2EBFA;\n",
              "      box-shadow: 0px 1px 2px rgba(60, 64, 67, 0.3), 0px 1px 3px 1px rgba(60, 64, 67, 0.15);\n",
              "      fill: #174EA6;\n",
              "    }\n",
              "\n",
              "    [theme=dark] .colab-df-convert {\n",
              "      background-color: #3B4455;\n",
              "      fill: #D2E3FC;\n",
              "    }\n",
              "\n",
              "    [theme=dark] .colab-df-convert:hover {\n",
              "      background-color: #434B5C;\n",
              "      box-shadow: 0px 1px 3px 1px rgba(0, 0, 0, 0.15);\n",
              "      filter: drop-shadow(0px 1px 2px rgba(0, 0, 0, 0.3));\n",
              "      fill: #FFFFFF;\n",
              "    }\n",
              "  </style>\n",
              "\n",
              "      <script>\n",
              "        const buttonEl =\n",
              "          document.querySelector('#df-24008e95-7116-447c-a55f-6b26a2aa11e8 button.colab-df-convert');\n",
              "        buttonEl.style.display =\n",
              "          google.colab.kernel.accessAllowed ? 'block' : 'none';\n",
              "\n",
              "        async function convertToInteractive(key) {\n",
              "          const element = document.querySelector('#df-24008e95-7116-447c-a55f-6b26a2aa11e8');\n",
              "          const dataTable =\n",
              "            await google.colab.kernel.invokeFunction('convertToInteractive',\n",
              "                                                     [key], {});\n",
              "          if (!dataTable) return;\n",
              "\n",
              "          const docLinkHtml = 'Like what you see? Visit the ' +\n",
              "            '<a target=\"_blank\" href=https://colab.research.google.com/notebooks/data_table.ipynb>data table notebook</a>'\n",
              "            + ' to learn more about interactive tables.';\n",
              "          element.innerHTML = '';\n",
              "          dataTable['output_type'] = 'display_data';\n",
              "          await google.colab.output.renderOutput(dataTable, element);\n",
              "          const docLink = document.createElement('div');\n",
              "          docLink.innerHTML = docLinkHtml;\n",
              "          element.appendChild(docLink);\n",
              "        }\n",
              "      </script>\n",
              "    </div>\n",
              "  </div>\n",
              "  "
            ]
          },
          "metadata": {},
          "execution_count": 14
        }
      ]
    },
    {
      "cell_type": "code",
      "source": [
        "y_train.head(5)"
      ],
      "metadata": {
        "colab": {
          "base_uri": "https://localhost:8080/"
        },
        "id": "m7UqGU7eFoPq",
        "outputId": "4bd6dd6d-7094-40e9-85a3-6c62c5bae613"
      },
      "execution_count": null,
      "outputs": [
        {
          "output_type": "execute_result",
          "data": {
            "text/plain": [
              "17325    0\n",
              "13544    0\n",
              "49844    0\n",
              "16371    0\n",
              "13084    0\n",
              "Name: isFraud, dtype: int64"
            ]
          },
          "metadata": {},
          "execution_count": 15
        }
      ]
    },
    {
      "cell_type": "markdown",
      "source": [
        "#Handling Class Imbalance"
      ],
      "metadata": {
        "id": "_t7IKmJ3FuYy"
      }
    },
    {
      "cell_type": "code",
      "source": [
        "#Since there is very high gap between Value counts of isFraud(target Column)\n",
        "#we will try to handle the class imbalance\n",
        "train_df = pd.concat([X_train, pd.Series(np.squeeze(customers_train), name='customer'), y_train.reset_index(drop=True)], axis=1)\n",
        "train_df.head(3)"
      ],
      "metadata": {
        "colab": {
          "base_uri": "https://localhost:8080/",
          "height": 143
        },
        "id": "jz5pcKfmFvwi",
        "outputId": "5358d97f-a1cf-45e2-d450-b5969a81d57b"
      },
      "execution_count": null,
      "outputs": [
        {
          "output_type": "execute_result",
          "data": {
            "text/plain": [
              "     amount  oldbalanceOrg  newbalanceOrig  oldbalanceDest  newbalanceDest  \\\n",
              "0 -0.476533      -0.331007       -0.333246       -0.347251       -0.399715   \n",
              "1 -0.473382      -0.325069       -0.327862       -0.347251       -0.399715   \n",
              "2  0.659963       0.315640        0.469088        2.728245        2.704851   \n",
              "\n",
              "   tp_CASH_IN  tp_CASH_OUT  tp_DEBIT  tp_PAYMENT  tp_TRANSFER  customer  \\\n",
              "0   -0.465571    -0.618309 -0.115403    1.135244    -0.324425      3450   \n",
              "1   -0.465571    -0.618309 -0.115403    1.135244    -0.324425      3451   \n",
              "2    2.147900    -0.618309 -0.115403   -0.880868    -0.324425       579   \n",
              "\n",
              "   isFraud  \n",
              "0        0  \n",
              "1        0  \n",
              "2        0  "
            ],
            "text/html": [
              "\n",
              "  <div id=\"df-c771d97e-4f95-4e93-8ac9-60d6cf42072f\">\n",
              "    <div class=\"colab-df-container\">\n",
              "      <div>\n",
              "<style scoped>\n",
              "    .dataframe tbody tr th:only-of-type {\n",
              "        vertical-align: middle;\n",
              "    }\n",
              "\n",
              "    .dataframe tbody tr th {\n",
              "        vertical-align: top;\n",
              "    }\n",
              "\n",
              "    .dataframe thead th {\n",
              "        text-align: right;\n",
              "    }\n",
              "</style>\n",
              "<table border=\"1\" class=\"dataframe\">\n",
              "  <thead>\n",
              "    <tr style=\"text-align: right;\">\n",
              "      <th></th>\n",
              "      <th>amount</th>\n",
              "      <th>oldbalanceOrg</th>\n",
              "      <th>newbalanceOrig</th>\n",
              "      <th>oldbalanceDest</th>\n",
              "      <th>newbalanceDest</th>\n",
              "      <th>tp_CASH_IN</th>\n",
              "      <th>tp_CASH_OUT</th>\n",
              "      <th>tp_DEBIT</th>\n",
              "      <th>tp_PAYMENT</th>\n",
              "      <th>tp_TRANSFER</th>\n",
              "      <th>customer</th>\n",
              "      <th>isFraud</th>\n",
              "    </tr>\n",
              "  </thead>\n",
              "  <tbody>\n",
              "    <tr>\n",
              "      <th>0</th>\n",
              "      <td>-0.476533</td>\n",
              "      <td>-0.331007</td>\n",
              "      <td>-0.333246</td>\n",
              "      <td>-0.347251</td>\n",
              "      <td>-0.399715</td>\n",
              "      <td>-0.465571</td>\n",
              "      <td>-0.618309</td>\n",
              "      <td>-0.115403</td>\n",
              "      <td>1.135244</td>\n",
              "      <td>-0.324425</td>\n",
              "      <td>3450</td>\n",
              "      <td>0</td>\n",
              "    </tr>\n",
              "    <tr>\n",
              "      <th>1</th>\n",
              "      <td>-0.473382</td>\n",
              "      <td>-0.325069</td>\n",
              "      <td>-0.327862</td>\n",
              "      <td>-0.347251</td>\n",
              "      <td>-0.399715</td>\n",
              "      <td>-0.465571</td>\n",
              "      <td>-0.618309</td>\n",
              "      <td>-0.115403</td>\n",
              "      <td>1.135244</td>\n",
              "      <td>-0.324425</td>\n",
              "      <td>3451</td>\n",
              "      <td>0</td>\n",
              "    </tr>\n",
              "    <tr>\n",
              "      <th>2</th>\n",
              "      <td>0.659963</td>\n",
              "      <td>0.315640</td>\n",
              "      <td>0.469088</td>\n",
              "      <td>2.728245</td>\n",
              "      <td>2.704851</td>\n",
              "      <td>2.147900</td>\n",
              "      <td>-0.618309</td>\n",
              "      <td>-0.115403</td>\n",
              "      <td>-0.880868</td>\n",
              "      <td>-0.324425</td>\n",
              "      <td>579</td>\n",
              "      <td>0</td>\n",
              "    </tr>\n",
              "  </tbody>\n",
              "</table>\n",
              "</div>\n",
              "      <button class=\"colab-df-convert\" onclick=\"convertToInteractive('df-c771d97e-4f95-4e93-8ac9-60d6cf42072f')\"\n",
              "              title=\"Convert this dataframe to an interactive table.\"\n",
              "              style=\"display:none;\">\n",
              "        \n",
              "  <svg xmlns=\"http://www.w3.org/2000/svg\" height=\"24px\"viewBox=\"0 0 24 24\"\n",
              "       width=\"24px\">\n",
              "    <path d=\"M0 0h24v24H0V0z\" fill=\"none\"/>\n",
              "    <path d=\"M18.56 5.44l.94 2.06.94-2.06 2.06-.94-2.06-.94-.94-2.06-.94 2.06-2.06.94zm-11 1L8.5 8.5l.94-2.06 2.06-.94-2.06-.94L8.5 2.5l-.94 2.06-2.06.94zm10 10l.94 2.06.94-2.06 2.06-.94-2.06-.94-.94-2.06-.94 2.06-2.06.94z\"/><path d=\"M17.41 7.96l-1.37-1.37c-.4-.4-.92-.59-1.43-.59-.52 0-1.04.2-1.43.59L10.3 9.45l-7.72 7.72c-.78.78-.78 2.05 0 2.83L4 21.41c.39.39.9.59 1.41.59.51 0 1.02-.2 1.41-.59l7.78-7.78 2.81-2.81c.8-.78.8-2.07 0-2.86zM5.41 20L4 18.59l7.72-7.72 1.47 1.35L5.41 20z\"/>\n",
              "  </svg>\n",
              "      </button>\n",
              "      \n",
              "  <style>\n",
              "    .colab-df-container {\n",
              "      display:flex;\n",
              "      flex-wrap:wrap;\n",
              "      gap: 12px;\n",
              "    }\n",
              "\n",
              "    .colab-df-convert {\n",
              "      background-color: #E8F0FE;\n",
              "      border: none;\n",
              "      border-radius: 50%;\n",
              "      cursor: pointer;\n",
              "      display: none;\n",
              "      fill: #1967D2;\n",
              "      height: 32px;\n",
              "      padding: 0 0 0 0;\n",
              "      width: 32px;\n",
              "    }\n",
              "\n",
              "    .colab-df-convert:hover {\n",
              "      background-color: #E2EBFA;\n",
              "      box-shadow: 0px 1px 2px rgba(60, 64, 67, 0.3), 0px 1px 3px 1px rgba(60, 64, 67, 0.15);\n",
              "      fill: #174EA6;\n",
              "    }\n",
              "\n",
              "    [theme=dark] .colab-df-convert {\n",
              "      background-color: #3B4455;\n",
              "      fill: #D2E3FC;\n",
              "    }\n",
              "\n",
              "    [theme=dark] .colab-df-convert:hover {\n",
              "      background-color: #434B5C;\n",
              "      box-shadow: 0px 1px 3px 1px rgba(0, 0, 0, 0.15);\n",
              "      filter: drop-shadow(0px 1px 2px rgba(0, 0, 0, 0.3));\n",
              "      fill: #FFFFFF;\n",
              "    }\n",
              "  </style>\n",
              "\n",
              "      <script>\n",
              "        const buttonEl =\n",
              "          document.querySelector('#df-c771d97e-4f95-4e93-8ac9-60d6cf42072f button.colab-df-convert');\n",
              "        buttonEl.style.display =\n",
              "          google.colab.kernel.accessAllowed ? 'block' : 'none';\n",
              "\n",
              "        async function convertToInteractive(key) {\n",
              "          const element = document.querySelector('#df-c771d97e-4f95-4e93-8ac9-60d6cf42072f');\n",
              "          const dataTable =\n",
              "            await google.colab.kernel.invokeFunction('convertToInteractive',\n",
              "                                                     [key], {});\n",
              "          if (!dataTable) return;\n",
              "\n",
              "          const docLinkHtml = 'Like what you see? Visit the ' +\n",
              "            '<a target=\"_blank\" href=https://colab.research.google.com/notebooks/data_table.ipynb>data table notebook</a>'\n",
              "            + ' to learn more about interactive tables.';\n",
              "          element.innerHTML = '';\n",
              "          dataTable['output_type'] = 'display_data';\n",
              "          await google.colab.output.renderOutput(dataTable, element);\n",
              "          const docLink = document.createElement('div');\n",
              "          docLink.innerHTML = docLinkHtml;\n",
              "          element.appendChild(docLink);\n",
              "        }\n",
              "      </script>\n",
              "    </div>\n",
              "  </div>\n",
              "  "
            ]
          },
          "metadata": {},
          "execution_count": 16
        }
      ]
    },
    {
      "cell_type": "code",
      "source": [
        "train_df['isFraud'].value_counts()"
      ],
      "metadata": {
        "colab": {
          "base_uri": "https://localhost:8080/"
        },
        "id": "wMwEQU9CGfZS",
        "outputId": "3023a660-4b09-48ec-d9c6-2b416016e782"
      },
      "execution_count": null,
      "outputs": [
        {
          "output_type": "execute_result",
          "data": {
            "text/plain": [
              "0    34929\n",
              "1       71\n",
              "Name: isFraud, dtype: int64"
            ]
          },
          "metadata": {},
          "execution_count": 17
        }
      ]
    },
    {
      "cell_type": "code",
      "source": [
        "print(\"Number of examples to sample:\", 34929 - 71)"
      ],
      "metadata": {
        "colab": {
          "base_uri": "https://localhost:8080/"
        },
        "id": "nsFHBog4G6MS",
        "outputId": "43e9c8b2-487a-4dbb-fefc-9d128743f776"
      },
      "execution_count": null,
      "outputs": [
        {
          "output_type": "stream",
          "name": "stdout",
          "text": [
            "Number of examples to sample: 34858\n"
          ]
        }
      ]
    },
    {
      "cell_type": "code",
      "source": [
        "#Still the gap is very high\n",
        "oversampled_data = train_df.query(\"isFraud == 1\").sample(34858, replace=True, random_state=123)"
      ],
      "metadata": {
        "id": "PFS3lXzlGhqe"
      },
      "execution_count": null,
      "outputs": []
    },
    {
      "cell_type": "code",
      "source": [
        "oversampled_data.head(3)"
      ],
      "metadata": {
        "colab": {
          "base_uri": "https://localhost:8080/",
          "height": 143
        },
        "id": "KlEJh9AIG2Ie",
        "outputId": "9ce94fb9-5a02-4c0d-dd15-7b0d6ab123da"
      },
      "execution_count": null,
      "outputs": [
        {
          "output_type": "execute_result",
          "data": {
            "text/plain": [
              "         amount  oldbalanceOrg  newbalanceOrig  oldbalanceDest  \\\n",
              "33821 -0.408856      -0.321259       -0.333403       -0.343521   \n",
              "11627 -0.454176      -0.327894       -0.333403       -0.332356   \n",
              "28865  0.188942      -0.233736       -0.333403       -0.347251   \n",
              "\n",
              "       newbalanceDest  tp_CASH_IN  tp_CASH_OUT  tp_DEBIT  tp_PAYMENT  \\\n",
              "33821       -0.388017   -0.465571     1.617313 -0.115403   -0.880868   \n",
              "11627       -0.391365   -0.465571     1.617313 -0.115403   -0.880868   \n",
              "28865       -0.399715   -0.465571    -0.618309 -0.115403   -0.880868   \n",
              "\n",
              "       tp_TRANSFER  customer  isFraud  \n",
              "33821    -0.324425      1428        1  \n",
              "11627    -0.324425      2108        1  \n",
              "28865     3.082377      1378        1  "
            ],
            "text/html": [
              "\n",
              "  <div id=\"df-52fab70e-4155-49cb-bb73-82e55550e2ff\">\n",
              "    <div class=\"colab-df-container\">\n",
              "      <div>\n",
              "<style scoped>\n",
              "    .dataframe tbody tr th:only-of-type {\n",
              "        vertical-align: middle;\n",
              "    }\n",
              "\n",
              "    .dataframe tbody tr th {\n",
              "        vertical-align: top;\n",
              "    }\n",
              "\n",
              "    .dataframe thead th {\n",
              "        text-align: right;\n",
              "    }\n",
              "</style>\n",
              "<table border=\"1\" class=\"dataframe\">\n",
              "  <thead>\n",
              "    <tr style=\"text-align: right;\">\n",
              "      <th></th>\n",
              "      <th>amount</th>\n",
              "      <th>oldbalanceOrg</th>\n",
              "      <th>newbalanceOrig</th>\n",
              "      <th>oldbalanceDest</th>\n",
              "      <th>newbalanceDest</th>\n",
              "      <th>tp_CASH_IN</th>\n",
              "      <th>tp_CASH_OUT</th>\n",
              "      <th>tp_DEBIT</th>\n",
              "      <th>tp_PAYMENT</th>\n",
              "      <th>tp_TRANSFER</th>\n",
              "      <th>customer</th>\n",
              "      <th>isFraud</th>\n",
              "    </tr>\n",
              "  </thead>\n",
              "  <tbody>\n",
              "    <tr>\n",
              "      <th>33821</th>\n",
              "      <td>-0.408856</td>\n",
              "      <td>-0.321259</td>\n",
              "      <td>-0.333403</td>\n",
              "      <td>-0.343521</td>\n",
              "      <td>-0.388017</td>\n",
              "      <td>-0.465571</td>\n",
              "      <td>1.617313</td>\n",
              "      <td>-0.115403</td>\n",
              "      <td>-0.880868</td>\n",
              "      <td>-0.324425</td>\n",
              "      <td>1428</td>\n",
              "      <td>1</td>\n",
              "    </tr>\n",
              "    <tr>\n",
              "      <th>11627</th>\n",
              "      <td>-0.454176</td>\n",
              "      <td>-0.327894</td>\n",
              "      <td>-0.333403</td>\n",
              "      <td>-0.332356</td>\n",
              "      <td>-0.391365</td>\n",
              "      <td>-0.465571</td>\n",
              "      <td>1.617313</td>\n",
              "      <td>-0.115403</td>\n",
              "      <td>-0.880868</td>\n",
              "      <td>-0.324425</td>\n",
              "      <td>2108</td>\n",
              "      <td>1</td>\n",
              "    </tr>\n",
              "    <tr>\n",
              "      <th>28865</th>\n",
              "      <td>0.188942</td>\n",
              "      <td>-0.233736</td>\n",
              "      <td>-0.333403</td>\n",
              "      <td>-0.347251</td>\n",
              "      <td>-0.399715</td>\n",
              "      <td>-0.465571</td>\n",
              "      <td>-0.618309</td>\n",
              "      <td>-0.115403</td>\n",
              "      <td>-0.880868</td>\n",
              "      <td>3.082377</td>\n",
              "      <td>1378</td>\n",
              "      <td>1</td>\n",
              "    </tr>\n",
              "  </tbody>\n",
              "</table>\n",
              "</div>\n",
              "      <button class=\"colab-df-convert\" onclick=\"convertToInteractive('df-52fab70e-4155-49cb-bb73-82e55550e2ff')\"\n",
              "              title=\"Convert this dataframe to an interactive table.\"\n",
              "              style=\"display:none;\">\n",
              "        \n",
              "  <svg xmlns=\"http://www.w3.org/2000/svg\" height=\"24px\"viewBox=\"0 0 24 24\"\n",
              "       width=\"24px\">\n",
              "    <path d=\"M0 0h24v24H0V0z\" fill=\"none\"/>\n",
              "    <path d=\"M18.56 5.44l.94 2.06.94-2.06 2.06-.94-2.06-.94-.94-2.06-.94 2.06-2.06.94zm-11 1L8.5 8.5l.94-2.06 2.06-.94-2.06-.94L8.5 2.5l-.94 2.06-2.06.94zm10 10l.94 2.06.94-2.06 2.06-.94-2.06-.94-.94-2.06-.94 2.06-2.06.94z\"/><path d=\"M17.41 7.96l-1.37-1.37c-.4-.4-.92-.59-1.43-.59-.52 0-1.04.2-1.43.59L10.3 9.45l-7.72 7.72c-.78.78-.78 2.05 0 2.83L4 21.41c.39.39.9.59 1.41.59.51 0 1.02-.2 1.41-.59l7.78-7.78 2.81-2.81c.8-.78.8-2.07 0-2.86zM5.41 20L4 18.59l7.72-7.72 1.47 1.35L5.41 20z\"/>\n",
              "  </svg>\n",
              "      </button>\n",
              "      \n",
              "  <style>\n",
              "    .colab-df-container {\n",
              "      display:flex;\n",
              "      flex-wrap:wrap;\n",
              "      gap: 12px;\n",
              "    }\n",
              "\n",
              "    .colab-df-convert {\n",
              "      background-color: #E8F0FE;\n",
              "      border: none;\n",
              "      border-radius: 50%;\n",
              "      cursor: pointer;\n",
              "      display: none;\n",
              "      fill: #1967D2;\n",
              "      height: 32px;\n",
              "      padding: 0 0 0 0;\n",
              "      width: 32px;\n",
              "    }\n",
              "\n",
              "    .colab-df-convert:hover {\n",
              "      background-color: #E2EBFA;\n",
              "      box-shadow: 0px 1px 2px rgba(60, 64, 67, 0.3), 0px 1px 3px 1px rgba(60, 64, 67, 0.15);\n",
              "      fill: #174EA6;\n",
              "    }\n",
              "\n",
              "    [theme=dark] .colab-df-convert {\n",
              "      background-color: #3B4455;\n",
              "      fill: #D2E3FC;\n",
              "    }\n",
              "\n",
              "    [theme=dark] .colab-df-convert:hover {\n",
              "      background-color: #434B5C;\n",
              "      box-shadow: 0px 1px 3px 1px rgba(0, 0, 0, 0.15);\n",
              "      filter: drop-shadow(0px 1px 2px rgba(0, 0, 0, 0.3));\n",
              "      fill: #FFFFFF;\n",
              "    }\n",
              "  </style>\n",
              "\n",
              "      <script>\n",
              "        const buttonEl =\n",
              "          document.querySelector('#df-52fab70e-4155-49cb-bb73-82e55550e2ff button.colab-df-convert');\n",
              "        buttonEl.style.display =\n",
              "          google.colab.kernel.accessAllowed ? 'block' : 'none';\n",
              "\n",
              "        async function convertToInteractive(key) {\n",
              "          const element = document.querySelector('#df-52fab70e-4155-49cb-bb73-82e55550e2ff');\n",
              "          const dataTable =\n",
              "            await google.colab.kernel.invokeFunction('convertToInteractive',\n",
              "                                                     [key], {});\n",
              "          if (!dataTable) return;\n",
              "\n",
              "          const docLinkHtml = 'Like what you see? Visit the ' +\n",
              "            '<a target=\"_blank\" href=https://colab.research.google.com/notebooks/data_table.ipynb>data table notebook</a>'\n",
              "            + ' to learn more about interactive tables.';\n",
              "          element.innerHTML = '';\n",
              "          dataTable['output_type'] = 'display_data';\n",
              "          await google.colab.output.renderOutput(dataTable, element);\n",
              "          const docLink = document.createElement('div');\n",
              "          docLink.innerHTML = docLinkHtml;\n",
              "          element.appendChild(docLink);\n",
              "        }\n",
              "      </script>\n",
              "    </div>\n",
              "  </div>\n",
              "  "
            ]
          },
          "metadata": {},
          "execution_count": 19
        }
      ]
    },
    {
      "cell_type": "code",
      "source": [
        "train_df = pd.concat([train_df, oversampled_data], axis=0).sample(frac=1.0, random_state=123).reset_index(drop=True)"
      ],
      "metadata": {
        "id": "MuIBfae_HC6S"
      },
      "execution_count": null,
      "outputs": []
    },
    {
      "cell_type": "code",
      "source": [
        "train_df['isFraud'].value_counts()"
      ],
      "metadata": {
        "colab": {
          "base_uri": "https://localhost:8080/"
        },
        "id": "NhLHNgveHHAR",
        "outputId": "a5a724d2-0eea-4063-c305-c01b4e030075"
      },
      "execution_count": null,
      "outputs": [
        {
          "output_type": "execute_result",
          "data": {
            "text/plain": [
              "1    34929\n",
              "0    34929\n",
              "Name: isFraud, dtype: int64"
            ]
          },
          "metadata": {},
          "execution_count": 21
        }
      ]
    },
    {
      "cell_type": "code",
      "source": [
        "customers_train = train_df['customer'].copy()\n",
        "y_train = train_df['isFraud'].copy()\n",
        "X_train = train_df.drop(['customer', 'isFraud'], axis=1).copy()"
      ],
      "metadata": {
        "id": "bTTrh-HvHROn"
      },
      "execution_count": null,
      "outputs": []
    },
    {
      "cell_type": "markdown",
      "source": [
        "#Modeling"
      ],
      "metadata": {
        "id": "uBRmrfXQHenq"
      }
    },
    {
      "cell_type": "code",
      "source": [
        "# Inputs\n",
        "X_inputs = tf.keras.Input(shape=(10,), name='X_input')\n",
        "customer_inputs = tf.keras.Input(shape=(1,), name='customer_input')\n",
        "\n",
        "# X\n",
        "X_dense1 = tf.keras.layers.Dense(64, activation='relu', name='X_dense1')(X_inputs)\n",
        "X_dense2 = tf.keras.layers.Dense(64, activation='relu', name='X_dense2')(X_dense1)\n",
        "\n",
        "# customers\n",
        "customer_embedding = tf.keras.layers.Embedding(\n",
        "    input_dim=21018,\n",
        "    output_dim=64,\n",
        "    input_length=1,\n",
        "    name='customer_embedding'\n",
        ")(customer_inputs)\n",
        "customer_flatten = tf.keras.layers.Flatten(name='customer_flatten')(customer_embedding)\n",
        "# Concatenate\n",
        "concat = tf.keras.layers.concatenate([X_dense2, customer_flatten], name='concatenate')\n",
        "\n",
        "# Output\n",
        "outputs = tf.keras.layers.Dense(1, activation='sigmoid', name='output')(concat)\n",
        "\n",
        "\n",
        "model = tf.keras.Model(inputs=[X_inputs, customer_inputs], outputs=outputs)\n",
        "\n",
        "print(model.summary())\n",
        "tf.keras.utils.plot_model(model)"
      ],
      "metadata": {
        "colab": {
          "base_uri": "https://localhost:8080/",
          "height": 934
        },
        "id": "zlioxn5JHVUe",
        "outputId": "4094eba5-8f1b-4685-f35a-9c81907b640d"
      },
      "execution_count": null,
      "outputs": [
        {
          "output_type": "stream",
          "name": "stdout",
          "text": [
            "Model: \"model\"\n",
            "__________________________________________________________________________________________________\n",
            " Layer (type)                   Output Shape         Param #     Connected to                     \n",
            "==================================================================================================\n",
            " X_input (InputLayer)           [(None, 10)]         0           []                               \n",
            "                                                                                                  \n",
            " customer_input (InputLayer)    [(None, 1)]          0           []                               \n",
            "                                                                                                  \n",
            " X_dense1 (Dense)               (None, 64)           704         ['X_input[0][0]']                \n",
            "                                                                                                  \n",
            " customer_embedding (Embedding)  (None, 1, 64)       1345152     ['customer_input[0][0]']         \n",
            "                                                                                                  \n",
            " X_dense2 (Dense)               (None, 64)           4160        ['X_dense1[0][0]']               \n",
            "                                                                                                  \n",
            " customer_flatten (Flatten)     (None, 64)           0           ['customer_embedding[0][0]']     \n",
            "                                                                                                  \n",
            " concatenate (Concatenate)      (None, 128)          0           ['X_dense2[0][0]',               \n",
            "                                                                  'customer_flatten[0][0]']       \n",
            "                                                                                                  \n",
            " output (Dense)                 (None, 1)            129         ['concatenate[0][0]']            \n",
            "                                                                                                  \n",
            "==================================================================================================\n",
            "Total params: 1,350,145\n",
            "Trainable params: 1,350,145\n",
            "Non-trainable params: 0\n",
            "__________________________________________________________________________________________________\n",
            "None\n"
          ]
        },
        {
          "output_type": "execute_result",
          "data": {
            "image/png": "[encoded data removed]",
            "text/plain": [
              "<IPython.core.display.Image object>"
            ]
          },
          "metadata": {},
          "execution_count": 23
        }
      ]
    },
    {
      "cell_type": "code",
      "source": [
        "model.compile(\n",
        "    optimizer='adam',\n",
        "    loss='binary_crossentropy',\n",
        "    metrics=[\n",
        "        'accuracy',\n",
        "        tf.keras.metrics.AUC(name='auc')\n",
        "    ]\n",
        ")"
      ],
      "metadata": {
        "id": "r_U63EvbHmlm"
      },
      "execution_count": null,
      "outputs": []
    },
    {
      "cell_type": "markdown",
      "source": [
        "#Training"
      ],
      "metadata": {
        "id": "KIt3NLOhHtjy"
      }
    },
    {
      "cell_type": "code",
      "source": [
        "history = model.fit(\n",
        "    [X_train, customers_train],\n",
        "    y_train,\n",
        "    validation_split=0.2,\n",
        "    class_weight={\n",
        "        0: 0.25,\n",
        "        1: 4.0\n",
        "    },\n",
        "    batch_size=32,\n",
        "    epochs=10,\n",
        "    callbacks=[\n",
        "        tf.keras.callbacks.EarlyStopping(\n",
        "            monitor='val_loss',\n",
        "            patience=2,\n",
        "            restore_best_weights=True\n",
        "        )\n",
        "    ]\n",
        ")"
      ],
      "metadata": {
        "colab": {
          "base_uri": "https://localhost:8080/"
        },
        "id": "f3ReKkmZHvfB",
        "outputId": "a15467fb-770b-48ef-eea7-a452316e92a9"
      },
      "execution_count": null,
      "outputs": [
        {
          "output_type": "stream",
          "name": "stdout",
          "text": [
            "Epoch 1/10\n",
            "1747/1747 [==============================] - 39s 21ms/step - loss: 0.0652 - accuracy: 0.9369 - auc: 0.9955 - val_loss: 0.0126 - val_accuracy: 0.9978 - val_auc: 0.9989\n",
            "Epoch 2/10\n",
            "1747/1747 [==============================] - 34s 20ms/step - loss: 0.0036 - accuracy: 0.9981 - auc: 0.9989 - val_loss: 0.0080 - val_accuracy: 0.9985 - val_auc: 0.9994\n",
            "Epoch 3/10\n",
            "1747/1747 [==============================] - 36s 21ms/step - loss: 0.0031 - accuracy: 0.9984 - auc: 0.9990 - val_loss: 0.0190 - val_accuracy: 0.9981 - val_auc: 0.9984\n",
            "Epoch 4/10\n",
            "1747/1747 [==============================] - 35s 20ms/step - loss: 0.0028 - accuracy: 0.9984 - auc: 0.9990 - val_loss: 0.0098 - val_accuracy: 0.9986 - val_auc: 0.9993\n"
          ]
        }
      ]
    },
    {
      "cell_type": "markdown",
      "source": [
        "#Results"
      ],
      "metadata": {
        "id": "TiE9ALU_QThK"
      }
    },
    {
      "cell_type": "code",
      "source": [
        "results = model.evaluate([X_test, customers_test], y_test, verbose=0)\n",
        "print(\"Test Accuracy: {:.3f}%\".format(results[1] * 100))\n",
        "print(\"     Test AUC: {:.3f}\".format(results[2] * 100))"
      ],
      "metadata": {
        "colab": {
          "base_uri": "https://localhost:8080/"
        },
        "id": "DFE6sYqCQkI3",
        "outputId": "adbfe7e6-bcce-413c-8fa9-3d322d1aa8dc"
      },
      "execution_count": null,
      "outputs": [
        {
          "output_type": "stream",
          "name": "stdout",
          "text": [
            "Test Accuracy: 99.647%\n",
            "     Test AUC: 89.901\n"
          ]
        }
      ]
    },
    {
      "cell_type": "code",
      "source": [
        "y_true = np.array(y_test)\n",
        "\n",
        "y_pred = np.squeeze(model.predict([X_test, customers_test]))\n",
        "y_pred = (y_pred >= 0.5).astype(np.int)\n",
        "\n",
        "\n",
        "cm = confusion_matrix(y_true, y_pred)\n",
        "clr = classification_report(y_true, y_pred, target_names=[\"Not Fraud\", \"Fraud\"])"
      ],
      "metadata": {
        "id": "zcjzjGeCQqF1",
        "colab": {
          "base_uri": "https://localhost:8080/"
        },
        "outputId": "924ba26f-836b-4068-8f1f-c47f96d0ec00"
      },
      "execution_count": null,
      "outputs": [
        {
          "output_type": "stream",
          "name": "stdout",
          "text": [
            "469/469 [==============================] - 1s 1ms/step\n"
          ]
        },
        {
          "output_type": "stream",
          "name": "stderr",
          "text": [
            "<ipython-input-27-5d190804a4e5>:4: DeprecationWarning: `np.int` is a deprecated alias for the builtin `int`. To silence this warning, use `int` by itself. Doing this will not modify any behavior and is safe. When replacing `np.int`, you may wish to use e.g. `np.int64` or `np.int32` to specify the precision. If you wish to review your current use, check the release note link for additional information.\n",
            "Deprecated in NumPy 1.20; for more details and guidance: https://numpy.org/devdocs/release/1.20.0-notes.html#deprecations\n",
            "  y_pred = (y_pred >= 0.5).astype(np.int)\n"
          ]
        }
      ]
    },
    {
      "cell_type": "code",
      "source": [
        "plt.figure(figsize=(8, 8))\n",
        "sns.heatmap(cm, annot=True, vmin=0, fmt='g', cbar=False, cmap='Blues')\n",
        "plt.xticks(np.arange(2) + 0.5, [\"Not Fraud\", \"Fraud\"])\n",
        "plt.yticks(np.arange(2) + 0.5, [\"Not Fraud\", \"Fraud\"])\n",
        "plt.xlabel(\"Predicted\")\n",
        "plt.ylabel(\"Actual\")\n",
        "plt.title(\"Confusion Matrix\")\n",
        "plt.show()"
      ],
      "metadata": {
        "colab": {
          "base_uri": "https://localhost:8080/",
          "height": 513
        },
        "id": "Y7cE1FfLQrzY",
        "outputId": "76e56833-2948-42a1-873f-8dec1332af54"
      },
      "execution_count": null,
      "outputs": [
        {
          "output_type": "display_data",
          "data": {
            "text/plain": [
              "<Figure size 576x576 with 1 Axes>"
            ],
            "image/png": "[encoded data removed]"
          },
          "metadata": {
            "needs_background": "light"
          }
        }
      ]
    },
    {
      "cell_type": "code",
      "source": [
        "print(\"Classification Report:\\n----------------------\\n\", clr)"
      ],
      "metadata": {
        "id": "dqVKN_w2QyFB",
        "outputId": "8a38bb93-61ed-4e33-f182-e260b1b97584",
        "colab": {
          "base_uri": "https://localhost:8080/"
        }
      },
      "execution_count": null,
      "outputs": [
        {
          "output_type": "stream",
          "name": "stdout",
          "text": [
            "Classification Report:\n",
            "----------------------\n",
            "               precision    recall  f1-score   support\n",
            "\n",
            "   Not Fraud       1.00      1.00      1.00     14971\n",
            "       Fraud       0.12      0.14      0.13        29\n",
            "\n",
            "    accuracy                           1.00     15000\n",
            "   macro avg       0.56      0.57      0.56     15000\n",
            "weighted avg       1.00      1.00      1.00     15000\n",
            "\n"
          ]
        }
      ]
    }
  ]
}